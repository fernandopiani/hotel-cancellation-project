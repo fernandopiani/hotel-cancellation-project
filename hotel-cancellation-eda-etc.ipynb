{
 "cells": [
  {
   "cell_type": "code",
   "execution_count": 1,
   "id": "629dd2f1",
   "metadata": {},
   "outputs": [],
   "source": [
    "import numpy as np\n",
    "import pandas as pd\n",
    "import matplotlib.pyplot as plt\n",
    "import seaborn as sns"
   ]
  },
  {
   "cell_type": "code",
   "execution_count": 2,
   "id": "185ea789",
   "metadata": {},
   "outputs": [],
   "source": [
    "raw_data = pd.read_csv('hotel_booking.csv')"
   ]
  },
  {
   "cell_type": "code",
   "execution_count": 3,
   "id": "3d6074da",
   "metadata": {},
   "outputs": [
    {
     "name": "stdout",
     "output_type": "stream",
     "text": [
      "          hotel  is_canceled  lead_time  arrival_date_year arrival_date_month  \\\n",
      "0  Resort Hotel            0        342               2015               July   \n",
      "1  Resort Hotel            0        737               2015               July   \n",
      "2  Resort Hotel            0          7               2015               July   \n",
      "3  Resort Hotel            0         13               2015               July   \n",
      "4  Resort Hotel            0         14               2015               July   \n",
      "\n",
      "   arrival_date_week_number  arrival_date_day_of_month  \\\n",
      "0                        27                          1   \n",
      "1                        27                          1   \n",
      "2                        27                          1   \n",
      "3                        27                          1   \n",
      "4                        27                          1   \n",
      "\n",
      "   stays_in_weekend_nights  stays_in_week_nights  adults  ...  customer_type  \\\n",
      "0                        0                     0       2  ...      Transient   \n",
      "1                        0                     0       2  ...      Transient   \n",
      "2                        0                     1       1  ...      Transient   \n",
      "3                        0                     1       1  ...      Transient   \n",
      "4                        0                     2       2  ...      Transient   \n",
      "\n",
      "    adr required_car_parking_spaces total_of_special_requests  \\\n",
      "0   0.0                           0                         0   \n",
      "1   0.0                           0                         0   \n",
      "2  75.0                           0                         0   \n",
      "3  75.0                           0                         0   \n",
      "4  98.0                           0                         1   \n",
      "\n",
      "  reservation_status reservation_status_date            name  \\\n",
      "0          Check-Out              2015-07-01   Ernest Barnes   \n",
      "1          Check-Out              2015-07-01    Andrea Baker   \n",
      "2          Check-Out              2015-07-02  Rebecca Parker   \n",
      "3          Check-Out              2015-07-02    Laura Murray   \n",
      "4          Check-Out              2015-07-03     Linda Hines   \n",
      "\n",
      "                         email  phone-number       credit_card  \n",
      "0  Ernest.Barnes31@outlook.com  669-792-1661  ************4322  \n",
      "1       Andrea_Baker94@aol.com  858-637-6955  ************9157  \n",
      "2   Rebecca_Parker@comcast.net  652-885-2745  ************3734  \n",
      "3            Laura_M@gmail.com  364-656-8427  ************5677  \n",
      "4           LHines@verizon.com  713-226-5883  ************5498  \n",
      "\n",
      "[5 rows x 36 columns]\n"
     ]
    }
   ],
   "source": [
    "print(raw_data.head())"
   ]
  },
  {
   "cell_type": "code",
   "execution_count": 4,
   "id": "6c284293",
   "metadata": {},
   "outputs": [
    {
     "name": "stdout",
     "output_type": "stream",
     "text": [
      "Index(['hotel', 'is_canceled', 'lead_time', 'arrival_date_year',\n",
      "       'arrival_date_month', 'arrival_date_week_number',\n",
      "       'arrival_date_day_of_month', 'stays_in_weekend_nights',\n",
      "       'stays_in_week_nights', 'adults', 'children', 'babies', 'meal',\n",
      "       'country', 'market_segment', 'distribution_channel',\n",
      "       'is_repeated_guest', 'previous_cancellations',\n",
      "       'previous_bookings_not_canceled', 'reserved_room_type',\n",
      "       'assigned_room_type', 'booking_changes', 'deposit_type', 'agent',\n",
      "       'company', 'days_in_waiting_list', 'customer_type', 'adr',\n",
      "       'required_car_parking_spaces', 'total_of_special_requests',\n",
      "       'reservation_status', 'reservation_status_date', 'name', 'email',\n",
      "       'phone-number', 'credit_card'],\n",
      "      dtype='object')\n"
     ]
    }
   ],
   "source": [
    "print(raw_data.columns)"
   ]
  },
  {
   "cell_type": "code",
   "execution_count": 5,
   "id": "0a1a1fe6",
   "metadata": {},
   "outputs": [
    {
     "name": "stdout",
     "output_type": "stream",
     "text": [
      "hotel                                  0\n",
      "is_canceled                            0\n",
      "lead_time                              0\n",
      "arrival_date_year                      0\n",
      "arrival_date_month                     0\n",
      "arrival_date_week_number               0\n",
      "arrival_date_day_of_month              0\n",
      "stays_in_weekend_nights                0\n",
      "stays_in_week_nights                   0\n",
      "adults                                 0\n",
      "children                               4\n",
      "babies                                 0\n",
      "meal                                   0\n",
      "country                              488\n",
      "market_segment                         0\n",
      "distribution_channel                   0\n",
      "is_repeated_guest                      0\n",
      "previous_cancellations                 0\n",
      "previous_bookings_not_canceled         0\n",
      "reserved_room_type                     0\n",
      "assigned_room_type                     0\n",
      "booking_changes                        0\n",
      "deposit_type                           0\n",
      "agent                              16340\n",
      "company                           112593\n",
      "days_in_waiting_list                   0\n",
      "customer_type                          0\n",
      "adr                                    0\n",
      "required_car_parking_spaces            0\n",
      "total_of_special_requests              0\n",
      "reservation_status                     0\n",
      "reservation_status_date                0\n",
      "name                                   0\n",
      "email                                  0\n",
      "phone-number                           0\n",
      "credit_card                            0\n",
      "dtype: int64\n"
     ]
    }
   ],
   "source": [
    "print(raw_data.isna().sum())"
   ]
  },
  {
   "cell_type": "code",
   "execution_count": 6,
   "id": "9616093b",
   "metadata": {},
   "outputs": [
    {
     "name": "stdout",
     "output_type": "stream",
     "text": [
      "(119390, 36)\n"
     ]
    }
   ],
   "source": [
    "print(raw_data.shape)"
   ]
  },
  {
   "cell_type": "code",
   "execution_count": 7,
   "id": "b14bd6bf",
   "metadata": {},
   "outputs": [
    {
     "data": {
      "text/plain": [
       "0    75166\n",
       "1    44224\n",
       "Name: is_canceled, dtype: int64"
      ]
     },
     "execution_count": 7,
     "metadata": {},
     "output_type": "execute_result"
    }
   ],
   "source": [
    "raw_data['is_canceled'].value_counts()"
   ]
  },
  {
   "cell_type": "code",
   "execution_count": 8,
   "id": "572e47ff",
   "metadata": {},
   "outputs": [
    {
     "data": {
      "text/plain": [
       "0    0.629584\n",
       "1    0.370416\n",
       "Name: is_canceled, dtype: float64"
      ]
     },
     "execution_count": 8,
     "metadata": {},
     "output_type": "execute_result"
    }
   ],
   "source": [
    "raw_data['is_canceled'].value_counts(normalize=True)"
   ]
  },
  {
   "cell_type": "code",
   "execution_count": 10,
   "id": "ff05b533",
   "metadata": {},
   "outputs": [
    {
     "name": "stdout",
     "output_type": "stream",
     "text": [
      "PRT    48590\n",
      "GBR    12129\n",
      "FRA    10415\n",
      "ESP     8568\n",
      "DEU     7287\n",
      "       ...  \n",
      "AIA        1\n",
      "DMA        1\n",
      "SDN        1\n",
      "ASM        1\n",
      "BWA        1\n",
      "Name: country, Length: 177, dtype: int64\n",
      "9.0      31961\n",
      "240.0    13922\n",
      "1.0       7191\n",
      "14.0      3640\n",
      "7.0       3539\n",
      "         ...  \n",
      "304.0        1\n",
      "431.0        1\n",
      "278.0        1\n",
      "450.0        1\n",
      "114.0        1\n",
      "Name: agent, Length: 333, dtype: int64\n",
      "40.0     927\n",
      "223.0    784\n",
      "67.0     267\n",
      "45.0     250\n",
      "153.0    215\n",
      "        ... \n",
      "273.0      1\n",
      "415.0      1\n",
      "352.0      1\n",
      "253.0      1\n",
      "497.0      1\n",
      "Name: company, Length: 352, dtype: int64\n"
     ]
    }
   ],
   "source": [
    "missing_data_cols = ['country', 'agent', 'company']\n",
    "for col in missing_data_cols:\n",
    "    print(raw_data[col].value_counts())"
   ]
  },
  {
   "cell_type": "code",
   "execution_count": 11,
   "id": "7acf19f7",
   "metadata": {},
   "outputs": [
    {
     "name": "stdout",
     "output_type": "stream",
     "text": [
      "         is_canceled      lead_time  arrival_date_year  \\\n",
      "count  119390.000000  119390.000000      119390.000000   \n",
      "mean        0.370416     104.011416        2016.156554   \n",
      "std         0.482918     106.863097           0.707476   \n",
      "min         0.000000       0.000000        2015.000000   \n",
      "25%         0.000000      18.000000        2016.000000   \n",
      "50%         0.000000      69.000000        2016.000000   \n",
      "75%         1.000000     160.000000        2017.000000   \n",
      "max         1.000000     737.000000        2017.000000   \n",
      "\n",
      "       arrival_date_week_number  arrival_date_day_of_month  \\\n",
      "count             119390.000000              119390.000000   \n",
      "mean                  27.165173                  15.798241   \n",
      "std                   13.605138                   8.780829   \n",
      "min                    1.000000                   1.000000   \n",
      "25%                   16.000000                   8.000000   \n",
      "50%                   28.000000                  16.000000   \n",
      "75%                   38.000000                  23.000000   \n",
      "max                   53.000000                  31.000000   \n",
      "\n",
      "       stays_in_weekend_nights  stays_in_week_nights         adults  \\\n",
      "count            119390.000000         119390.000000  119390.000000   \n",
      "mean                  0.927599              2.500302       1.856403   \n",
      "std                   0.998613              1.908286       0.579261   \n",
      "min                   0.000000              0.000000       0.000000   \n",
      "25%                   0.000000              1.000000       2.000000   \n",
      "50%                   1.000000              2.000000       2.000000   \n",
      "75%                   2.000000              3.000000       2.000000   \n",
      "max                  19.000000             50.000000      55.000000   \n",
      "\n",
      "            children         babies  is_repeated_guest  \\\n",
      "count  119386.000000  119390.000000      119390.000000   \n",
      "mean        0.103890       0.007949           0.031912   \n",
      "std         0.398561       0.097436           0.175767   \n",
      "min         0.000000       0.000000           0.000000   \n",
      "25%         0.000000       0.000000           0.000000   \n",
      "50%         0.000000       0.000000           0.000000   \n",
      "75%         0.000000       0.000000           0.000000   \n",
      "max        10.000000      10.000000           1.000000   \n",
      "\n",
      "       previous_cancellations  previous_bookings_not_canceled  \\\n",
      "count           119390.000000                   119390.000000   \n",
      "mean                 0.087118                        0.137097   \n",
      "std                  0.844336                        1.497437   \n",
      "min                  0.000000                        0.000000   \n",
      "25%                  0.000000                        0.000000   \n",
      "50%                  0.000000                        0.000000   \n",
      "75%                  0.000000                        0.000000   \n",
      "max                 26.000000                       72.000000   \n",
      "\n",
      "       booking_changes          agent      company  days_in_waiting_list  \\\n",
      "count    119390.000000  103050.000000  6797.000000         119390.000000   \n",
      "mean          0.221124      86.693382   189.266735              2.321149   \n",
      "std           0.652306     110.774548   131.655015             17.594721   \n",
      "min           0.000000       1.000000     6.000000              0.000000   \n",
      "25%           0.000000       9.000000    62.000000              0.000000   \n",
      "50%           0.000000      14.000000   179.000000              0.000000   \n",
      "75%           0.000000     229.000000   270.000000              0.000000   \n",
      "max          21.000000     535.000000   543.000000            391.000000   \n",
      "\n",
      "                 adr  required_car_parking_spaces  total_of_special_requests  \n",
      "count  119390.000000                119390.000000              119390.000000  \n",
      "mean      101.831122                     0.062518                   0.571363  \n",
      "std        50.535790                     0.245291                   0.792798  \n",
      "min        -6.380000                     0.000000                   0.000000  \n",
      "25%        69.290000                     0.000000                   0.000000  \n",
      "50%        94.575000                     0.000000                   0.000000  \n",
      "75%       126.000000                     0.000000                   1.000000  \n",
      "max      5400.000000                     8.000000                   5.000000  \n"
     ]
    }
   ],
   "source": [
    "print(raw_data.describe())"
   ]
  },
  {
   "cell_type": "code",
   "execution_count": 13,
   "id": "94b95a04",
   "metadata": {},
   "outputs": [
    {
     "name": "stdout",
     "output_type": "stream",
     "text": [
      "hotel                             0.000000\n",
      "is_canceled                       0.000000\n",
      "lead_time                         0.000000\n",
      "arrival_date_year                 0.000000\n",
      "arrival_date_month                0.000000\n",
      "arrival_date_week_number          0.000000\n",
      "arrival_date_day_of_month         0.000000\n",
      "stays_in_weekend_nights           0.000000\n",
      "stays_in_week_nights              0.000000\n",
      "adults                            0.000000\n",
      "children                          0.000034\n",
      "babies                            0.000000\n",
      "meal                              0.000000\n",
      "country                           0.004087\n",
      "market_segment                    0.000000\n",
      "distribution_channel              0.000000\n",
      "is_repeated_guest                 0.000000\n",
      "previous_cancellations            0.000000\n",
      "previous_bookings_not_canceled    0.000000\n",
      "reserved_room_type                0.000000\n",
      "assigned_room_type                0.000000\n",
      "booking_changes                   0.000000\n",
      "deposit_type                      0.000000\n",
      "agent                             0.136862\n",
      "company                           0.943069\n",
      "days_in_waiting_list              0.000000\n",
      "customer_type                     0.000000\n",
      "adr                               0.000000\n",
      "required_car_parking_spaces       0.000000\n",
      "total_of_special_requests         0.000000\n",
      "reservation_status                0.000000\n",
      "reservation_status_date           0.000000\n",
      "name                              0.000000\n",
      "email                             0.000000\n",
      "phone-number                      0.000000\n",
      "credit_card                       0.000000\n",
      "dtype: float64\n"
     ]
    }
   ],
   "source": [
    "print((raw_data.isna().sum()/len(raw_data)))"
   ]
  },
  {
   "cell_type": "code",
   "execution_count": 14,
   "id": "6168d625",
   "metadata": {},
   "outputs": [
    {
     "name": "stdout",
     "output_type": "stream",
     "text": [
      "<class 'pandas.core.frame.DataFrame'>\n",
      "RangeIndex: 119390 entries, 0 to 119389\n",
      "Data columns (total 36 columns):\n",
      " #   Column                          Non-Null Count   Dtype  \n",
      "---  ------                          --------------   -----  \n",
      " 0   hotel                           119390 non-null  object \n",
      " 1   is_canceled                     119390 non-null  int64  \n",
      " 2   lead_time                       119390 non-null  int64  \n",
      " 3   arrival_date_year               119390 non-null  int64  \n",
      " 4   arrival_date_month              119390 non-null  object \n",
      " 5   arrival_date_week_number        119390 non-null  int64  \n",
      " 6   arrival_date_day_of_month       119390 non-null  int64  \n",
      " 7   stays_in_weekend_nights         119390 non-null  int64  \n",
      " 8   stays_in_week_nights            119390 non-null  int64  \n",
      " 9   adults                          119390 non-null  int64  \n",
      " 10  children                        119386 non-null  float64\n",
      " 11  babies                          119390 non-null  int64  \n",
      " 12  meal                            119390 non-null  object \n",
      " 13  country                         118902 non-null  object \n",
      " 14  market_segment                  119390 non-null  object \n",
      " 15  distribution_channel            119390 non-null  object \n",
      " 16  is_repeated_guest               119390 non-null  int64  \n",
      " 17  previous_cancellations          119390 non-null  int64  \n",
      " 18  previous_bookings_not_canceled  119390 non-null  int64  \n",
      " 19  reserved_room_type              119390 non-null  object \n",
      " 20  assigned_room_type              119390 non-null  object \n",
      " 21  booking_changes                 119390 non-null  int64  \n",
      " 22  deposit_type                    119390 non-null  object \n",
      " 23  agent                           103050 non-null  float64\n",
      " 24  company                         6797 non-null    float64\n",
      " 25  days_in_waiting_list            119390 non-null  int64  \n",
      " 26  customer_type                   119390 non-null  object \n",
      " 27  adr                             119390 non-null  float64\n",
      " 28  required_car_parking_spaces     119390 non-null  int64  \n",
      " 29  total_of_special_requests       119390 non-null  int64  \n",
      " 30  reservation_status              119390 non-null  object \n",
      " 31  reservation_status_date         119390 non-null  object \n",
      " 32  name                            119390 non-null  object \n",
      " 33  email                           119390 non-null  object \n",
      " 34  phone-number                    119390 non-null  object \n",
      " 35  credit_card                     119390 non-null  object \n",
      "dtypes: float64(4), int64(16), object(16)\n",
      "memory usage: 32.8+ MB\n"
     ]
    }
   ],
   "source": [
    " raw_data.info()"
   ]
  },
  {
   "cell_type": "code",
   "execution_count": 15,
   "id": "47130a3d",
   "metadata": {},
   "outputs": [],
   "source": [
    "%matplotlib inline"
   ]
  },
  {
   "cell_type": "code",
   "execution_count": 16,
   "id": "4db7f393",
   "metadata": {},
   "outputs": [
    {
     "data": {
      "text/plain": [
       "array([[<AxesSubplot:title={'center':'is_canceled'}>,\n",
       "        <AxesSubplot:title={'center':'lead_time'}>,\n",
       "        <AxesSubplot:title={'center':'arrival_date_year'}>,\n",
       "        <AxesSubplot:title={'center':'arrival_date_week_number'}>],\n",
       "       [<AxesSubplot:title={'center':'arrival_date_day_of_month'}>,\n",
       "        <AxesSubplot:title={'center':'stays_in_weekend_nights'}>,\n",
       "        <AxesSubplot:title={'center':'stays_in_week_nights'}>,\n",
       "        <AxesSubplot:title={'center':'adults'}>],\n",
       "       [<AxesSubplot:title={'center':'children'}>,\n",
       "        <AxesSubplot:title={'center':'babies'}>,\n",
       "        <AxesSubplot:title={'center':'is_repeated_guest'}>,\n",
       "        <AxesSubplot:title={'center':'previous_cancellations'}>],\n",
       "       [<AxesSubplot:title={'center':'previous_bookings_not_canceled'}>,\n",
       "        <AxesSubplot:title={'center':'booking_changes'}>,\n",
       "        <AxesSubplot:title={'center':'agent'}>,\n",
       "        <AxesSubplot:title={'center':'company'}>],\n",
       "       [<AxesSubplot:title={'center':'days_in_waiting_list'}>,\n",
       "        <AxesSubplot:title={'center':'adr'}>,\n",
       "        <AxesSubplot:title={'center':'required_car_parking_spaces'}>,\n",
       "        <AxesSubplot:title={'center':'total_of_special_requests'}>]],\n",
       "      dtype=object)"
      ]
     },
     "execution_count": 16,
     "metadata": {},
     "output_type": "execute_result"
    },
    {
     "data": {
      "image/png": "[encoded data removed]",
      "text/plain": [
       "<Figure size 1080x1440 with 20 Axes>"
      ]
     },
     "metadata": {
      "needs_background": "light"
     },
     "output_type": "display_data"
    }
   ],
   "source": [
    "raw_data.hist(bins=50, figsize=(15,20))"
   ]
  },
  {
   "cell_type": "code",
   "execution_count": 21,
   "id": "852fcd79",
   "metadata": {},
   "outputs": [
    {
     "data": {
      "text/plain": [
       "<AxesSubplot:>"
      ]
     },
     "execution_count": 21,
     "metadata": {},
     "output_type": "execute_result"
    },
    {
     "data": {
      "image/png": "[encoded data removed]",
      "text/plain": [
       "<Figure size 432x288 with 1 Axes>"
      ]
     },
     "metadata": {
      "needs_background": "light"
     },
     "output_type": "display_data"
    }
   ],
   "source": [
    "raw_data['adr'].hist(bins=[20,40,60,80,100,120,140,160,180,200,220,240,260])"
   ]
  },
  {
   "cell_type": "code",
   "execution_count": 22,
   "id": "479c0436",
   "metadata": {},
   "outputs": [
    {
     "data": {
      "text/plain": [
       "<AxesSubplot:>"
      ]
     },
     "execution_count": 22,
     "metadata": {},
     "output_type": "execute_result"
    },
    {
     "data": {
      "image/png": "[encoded data removed]",
      "text/plain": [
       "<Figure size 1728x720 with 3 Axes>"
      ]
     },
     "metadata": {
      "needs_background": "light"
     },
     "output_type": "display_data"
    }
   ],
   "source": [
    "import missingno as msno\n",
    "msno.bar(raw_data)"
   ]
  },
  {
   "cell_type": "code",
   "execution_count": 23,
   "id": "f89da612",
   "metadata": {},
   "outputs": [
    {
     "data": {
      "text/plain": [
       "<AxesSubplot:>"
      ]
     },
     "execution_count": 23,
     "metadata": {},
     "output_type": "execute_result"
    },
    {
     "data": {
      "image/png": "[encoded data removed]",
      "text/plain": [
       "<Figure size 1440x864 with 2 Axes>"
      ]
     },
     "metadata": {
      "needs_background": "light"
     },
     "output_type": "display_data"
    }
   ],
   "source": [
    "msno.heatmap(raw_data)"
   ]
  },
  {
   "cell_type": "markdown",
   "id": "b95c5f17",
   "metadata": {},
   "source": [
    "So it seems that samples with 'agent' are leisure travelers and 'company' is business travelers. We don't have a hypothesis one way or the other which type of traveler might cancel more, but this in an interesting insight nonetheless."
   ]
  },
  {
   "cell_type": "code",
   "execution_count": 24,
   "id": "475ec9a3",
   "metadata": {},
   "outputs": [],
   "source": [
    "from sklearn.model_selection import train_test_split"
   ]
  },
  {
   "cell_type": "code",
   "execution_count": 26,
   "id": "251b4b90",
   "metadata": {},
   "outputs": [],
   "source": [
    "train_set, test_set = train_test_split(raw_data, test_size = 0.2, random_state = 42,\\\n",
    "                                       stratify = raw_data['is_canceled'])"
   ]
  },
  {
   "cell_type": "code",
   "execution_count": 27,
   "id": "96c71a92",
   "metadata": {},
   "outputs": [
    {
     "data": {
      "text/plain": [
       "0    0.629586\n",
       "1    0.370414\n",
       "Name: is_canceled, dtype: float64"
      ]
     },
     "execution_count": 27,
     "metadata": {},
     "output_type": "execute_result"
    }
   ],
   "source": [
    "train_set['is_canceled'].value_counts(normalize=True)"
   ]
  },
  {
   "cell_type": "code",
   "execution_count": 28,
   "id": "5780765e",
   "metadata": {},
   "outputs": [],
   "source": [
    "# Copy train set for some further analysis\n",
    "hotels = train_set.copy()"
   ]
  },
  {
   "cell_type": "code",
   "execution_count": 30,
   "id": "bf607d26",
   "metadata": {},
   "outputs": [],
   "source": [
    "corr_matrix = hotels.corr()"
   ]
  },
  {
   "cell_type": "code",
   "execution_count": 32,
   "id": "01190016",
   "metadata": {},
   "outputs": [
    {
     "data": {
      "text/plain": [
       "is_canceled                       1.000000\n",
       "lead_time                         0.293034\n",
       "previous_cancellations            0.111525\n",
       "adults                            0.057953\n",
       "days_in_waiting_list              0.053600\n",
       "adr                               0.046147\n",
       "stays_in_week_nights              0.025650\n",
       "arrival_date_year                 0.017537\n",
       "arrival_date_week_number          0.007270\n",
       "children                          0.005648\n",
       "stays_in_weekend_nights           0.000977\n",
       "arrival_date_day_of_month        -0.006720\n",
       "company                          -0.023931\n",
       "babies                           -0.030659\n",
       "previous_bookings_not_canceled   -0.057203\n",
       "agent                            -0.079114\n",
       "is_repeated_guest                -0.086247\n",
       "booking_changes                  -0.141886\n",
       "required_car_parking_spaces      -0.194639\n",
       "total_of_special_requests        -0.236955\n",
       "Name: is_canceled, dtype: float64"
      ]
     },
     "execution_count": 32,
     "metadata": {},
     "output_type": "execute_result"
    }
   ],
   "source": [
    "corr_matrix['is_canceled'].sort_values(ascending=False)"
   ]
  },
  {
   "cell_type": "code",
   "execution_count": 33,
   "id": "42484fb3",
   "metadata": {},
   "outputs": [
    {
     "data": {
      "image/png": "[encoded data removed]",
      "text/plain": [
       "<Figure size 432x288 with 1 Axes>"
      ]
     },
     "metadata": {
      "needs_background": "light"
     },
     "output_type": "display_data"
    }
   ],
   "source": [
    "_ = sns.boxplot(x='is_canceled', y='lead_time', data=hotels)"
   ]
  },
  {
   "cell_type": "code",
   "execution_count": 38,
   "id": "2c853902",
   "metadata": {},
   "outputs": [],
   "source": [
    "hotels['adr_per_person'] = hotels['adr']/(hotels['adults'] + hotels['children'] + hotels['babies'])"
   ]
  },
  {
   "cell_type": "code",
   "execution_count": 40,
   "id": "972eaaa0",
   "metadata": {},
   "outputs": [
    {
     "data": {
      "text/plain": [
       "is_canceled                       1.000000\n",
       "lead_time                         0.293034\n",
       "previous_cancellations            0.111525\n",
       "adults                            0.057953\n",
       "days_in_waiting_list              0.053600\n",
       "adr                               0.046147\n",
       "stays_in_week_nights              0.025650\n",
       "adr_per_adult                     0.018660\n",
       "adr_per_person                    0.018597\n",
       "arrival_date_year                 0.017537\n",
       "arrival_date_week_number          0.007270\n",
       "children                          0.005648\n",
       "stays_in_weekend_nights           0.000977\n",
       "arrival_date_day_of_month        -0.006720\n",
       "company                          -0.023931\n",
       "babies                           -0.030659\n",
       "previous_bookings_not_canceled   -0.057203\n",
       "agent                            -0.079114\n",
       "is_repeated_guest                -0.086247\n",
       "booking_changes                  -0.141886\n",
       "required_car_parking_spaces      -0.194639\n",
       "total_of_special_requests        -0.236955\n",
       "Name: is_canceled, dtype: float64"
      ]
     },
     "execution_count": 40,
     "metadata": {},
     "output_type": "execute_result"
    }
   ],
   "source": [
    "hotels['adr_per_adult'] = hotels['adr']/hotels['adults']\n",
    "corr_matrix = hotels.corr()\n",
    "corr_matrix['is_canceled'].sort_values(ascending=False)"
   ]
  },
  {
   "cell_type": "code",
   "execution_count": 42,
   "id": "8ab364b6",
   "metadata": {},
   "outputs": [],
   "source": [
    "# Resetting train set and separating features from labels\n",
    "hotels = train_set.drop('is_canceled', axis=1)\n",
    "hotel_labels = train_set['is_canceled'].copy()"
   ]
  },
  {
   "cell_type": "code",
   "execution_count": 43,
   "id": "ae5bfb02",
   "metadata": {},
   "outputs": [
    {
     "data": {
      "text/plain": [
       "Index(['hotel', 'lead_time', 'arrival_date_year', 'arrival_date_month',\n",
       "       'arrival_date_week_number', 'arrival_date_day_of_month',\n",
       "       'stays_in_weekend_nights', 'stays_in_week_nights', 'adults', 'children',\n",
       "       'babies', 'meal', 'country', 'market_segment', 'distribution_channel',\n",
       "       'is_repeated_guest', 'previous_cancellations',\n",
       "       'previous_bookings_not_canceled', 'reserved_room_type',\n",
       "       'assigned_room_type', 'booking_changes', 'deposit_type', 'agent',\n",
       "       'company', 'days_in_waiting_list', 'customer_type', 'adr',\n",
       "       'required_car_parking_spaces', 'total_of_special_requests',\n",
       "       'reservation_status', 'reservation_status_date', 'name', 'email',\n",
       "       'phone-number', 'credit_card'],\n",
       "      dtype='object')"
      ]
     },
     "execution_count": 43,
     "metadata": {},
     "output_type": "execute_result"
    }
   ],
   "source": [
    "hotels.columns"
   ]
  },
  {
   "cell_type": "code",
   "execution_count": 44,
   "id": "ac0c53b4",
   "metadata": {},
   "outputs": [
    {
     "data": {
      "text/plain": [
       "Transient          71610\n",
       "Transient-Party    20217\n",
       "Contract            3243\n",
       "Group                442\n",
       "Name: customer_type, dtype: int64"
      ]
     },
     "execution_count": 44,
     "metadata": {},
     "output_type": "execute_result"
    }
   ],
   "source": [
    "hotels['customer_type'].value_counts()"
   ]
  },
  {
   "cell_type": "code",
   "execution_count": 45,
   "id": "87bf22d3",
   "metadata": {},
   "outputs": [
    {
     "data": {
      "text/plain": [
       "hotel                              object\n",
       "lead_time                           int64\n",
       "arrival_date_year                   int64\n",
       "arrival_date_month                 object\n",
       "arrival_date_week_number            int64\n",
       "arrival_date_day_of_month           int64\n",
       "stays_in_weekend_nights             int64\n",
       "stays_in_week_nights                int64\n",
       "adults                              int64\n",
       "children                          float64\n",
       "babies                              int64\n",
       "meal                               object\n",
       "country                            object\n",
       "market_segment                     object\n",
       "distribution_channel               object\n",
       "is_repeated_guest                   int64\n",
       "previous_cancellations              int64\n",
       "previous_bookings_not_canceled      int64\n",
       "reserved_room_type                 object\n",
       "assigned_room_type                 object\n",
       "booking_changes                     int64\n",
       "deposit_type                       object\n",
       "agent                             float64\n",
       "company                           float64\n",
       "days_in_waiting_list                int64\n",
       "customer_type                      object\n",
       "adr                               float64\n",
       "required_car_parking_spaces         int64\n",
       "total_of_special_requests           int64\n",
       "reservation_status                 object\n",
       "reservation_status_date            object\n",
       "name                               object\n",
       "email                              object\n",
       "phone-number                       object\n",
       "credit_card                        object\n",
       "dtype: object"
      ]
     },
     "execution_count": 45,
     "metadata": {},
     "output_type": "execute_result"
    }
   ],
   "source": [
    "hotels.dtypes"
   ]
  },
  {
   "cell_type": "code",
   "execution_count": 48,
   "id": "ba77bc18",
   "metadata": {},
   "outputs": [
    {
     "data": {
      "text/plain": [
       "hotel                                 2\n",
       "lead_time                           474\n",
       "arrival_date_year                     3\n",
       "arrival_date_month                   12\n",
       "arrival_date_week_number             53\n",
       "arrival_date_day_of_month            31\n",
       "stays_in_weekend_nights              16\n",
       "stays_in_week_nights                 34\n",
       "adults                               13\n",
       "children                              5\n",
       "babies                                5\n",
       "meal                                  5\n",
       "country                             172\n",
       "market_segment                        8\n",
       "distribution_channel                  5\n",
       "is_repeated_guest                     2\n",
       "previous_cancellations               15\n",
       "previous_bookings_not_canceled       65\n",
       "reserved_room_type                   10\n",
       "assigned_room_type                   12\n",
       "booking_changes                      21\n",
       "deposit_type                          3\n",
       "agent                               327\n",
       "company                             337\n",
       "days_in_waiting_list                122\n",
       "customer_type                         4\n",
       "adr                                8025\n",
       "required_car_parking_spaces           5\n",
       "total_of_special_requests             6\n",
       "reservation_status                    3\n",
       "reservation_status_date             922\n",
       "name                              68397\n",
       "email                             93185\n",
       "phone-number                      95512\n",
       "credit_card                        8999\n",
       "dtype: int64"
      ]
     },
     "execution_count": 48,
     "metadata": {},
     "output_type": "execute_result"
    }
   ],
   "source": [
    "hotels.nunique()"
   ]
  },
  {
   "cell_type": "code",
   "execution_count": 52,
   "id": "e320e624",
   "metadata": {},
   "outputs": [],
   "source": [
    "# Storing categorical columns for future reference\n",
    "CAT_COLS = ['hotel', 'arrival_date_month', 'market_segment','distribution_channel', \\\n",
    "                    'is_repeated_guest', 'reserved_room_type', 'assigned_room_type', \\\n",
    "                           'deposit_type', 'customer_type', 'reservation_status']"
   ]
  },
  {
   "cell_type": "code",
   "execution_count": 50,
   "id": "d3491cd5",
   "metadata": {},
   "outputs": [],
   "source": [
    "# Storing numeric columns by creating a correlation matrix (which only uses numbers) and getting its index\n",
    "NUM_COLS = list(hotels.corr().index)"
   ]
  },
  {
   "cell_type": "code",
   "execution_count": 51,
   "id": "a822e52c",
   "metadata": {},
   "outputs": [
    {
     "name": "stdout",
     "output_type": "stream",
     "text": [
      "['lead_time', 'arrival_date_year', 'arrival_date_week_number', 'arrival_date_day_of_month', 'stays_in_weekend_nights', 'stays_in_week_nights', 'adults', 'children', 'babies', 'is_repeated_guest', 'previous_cancellations', 'previous_bookings_not_canceled', 'booking_changes', 'agent', 'company', 'days_in_waiting_list', 'adr', 'required_car_parking_spaces', 'total_of_special_requests']\n"
     ]
    }
   ],
   "source": [
    "print(NUM_COLS)"
   ]
  },
  {
   "cell_type": "code",
   "execution_count": 53,
   "id": "c615cd29",
   "metadata": {},
   "outputs": [],
   "source": [
    "# Removing column that is in fact a cat. variable\n",
    "NUM_COLS.remove('is_repeated_guest')"
   ]
  },
  {
   "cell_type": "markdown",
   "id": "11353569",
   "metadata": {},
   "source": [
    "Now we are going to select the best attributes from numerical and categorical variables. We do this in order to  \n",
    "minimize the number of attributes of our final dataset with as little impact as possible to predictive power.  \n",
    "Lastly, we will compare the performances of the two different kinds of models: numeric data only, numeric and categorical. Note that we will transform country into a ternary categorical variable: domestic (Portugal), Europe, and ROW, or alternatively, we will cluster countries."
   ]
  },
  {
   "cell_type": "code",
   "execution_count": 54,
   "id": "97a2bcb0",
   "metadata": {},
   "outputs": [],
   "source": [
    "from sklearn.decomposition import PCA, TruncatedSVD"
   ]
  },
  {
   "cell_type": "code",
   "execution_count": 57,
   "id": "59646d39",
   "metadata": {},
   "outputs": [],
   "source": [
    "from sklearn.preprocessing import StandardScaler"
   ]
  },
  {
   "cell_type": "code",
   "execution_count": 105,
   "id": "2e4f1487",
   "metadata": {},
   "outputs": [],
   "source": [
    "hotels_num = hotels[NUM_COLS].copy()"
   ]
  },
  {
   "cell_type": "code",
   "execution_count": 59,
   "id": "66f6188d",
   "metadata": {},
   "outputs": [],
   "source": [
    "scaler = StandardScaler()"
   ]
  },
  {
   "cell_type": "code",
   "execution_count": 67,
   "id": "daa28174",
   "metadata": {},
   "outputs": [],
   "source": [
    "hotels_num = pd.DataFrame(scaler.fit_transform(hotels_num))"
   ]
  },
  {
   "cell_type": "code",
   "execution_count": 72,
   "id": "096b2874",
   "metadata": {},
   "outputs": [],
   "source": [
    "hotels_num = hotels[NUM_COLS].copy().fillna(0)"
   ]
  },
  {
   "cell_type": "code",
   "execution_count": 73,
   "id": "131ca0fe",
   "metadata": {},
   "outputs": [],
   "source": [
    "hotels_num = pd.DataFrame(scaler.fit_transform(hotels_num))"
   ]
  },
  {
   "cell_type": "code",
   "execution_count": 74,
   "id": "be219980",
   "metadata": {},
   "outputs": [],
   "source": [
    "pca = PCA()\n",
    "pca.fit(hotels_num)\n",
    "cumsum = np.cumsum(pca.explained_variance_ratio_)\n",
    "d = np.argmax(cumsum >= 0.95) + 1"
   ]
  },
  {
   "cell_type": "code",
   "execution_count": 75,
   "id": "569453a4",
   "metadata": {},
   "outputs": [
    {
     "name": "stdout",
     "output_type": "stream",
     "text": [
      "16\n"
     ]
    }
   ],
   "source": [
    "print(d)"
   ]
  },
  {
   "cell_type": "code",
   "execution_count": 76,
   "id": "902c73f5",
   "metadata": {},
   "outputs": [
    {
     "data": {
      "text/plain": [
       "(95512, 18)"
      ]
     },
     "execution_count": 76,
     "metadata": {},
     "output_type": "execute_result"
    }
   ],
   "source": [
    "hotels_num.shape"
   ]
  },
  {
   "cell_type": "code",
   "execution_count": 82,
   "id": "197fbd82",
   "metadata": {},
   "outputs": [],
   "source": [
    "hotels_num = hotels[NUM_COLS].copy().drop(['agent', 'company'], axis=1).fillna(0)"
   ]
  },
  {
   "cell_type": "code",
   "execution_count": 83,
   "id": "94dd42f3",
   "metadata": {},
   "outputs": [],
   "source": [
    "hotels_num = pd.DataFrame(scaler.fit_transform(hotels_num))"
   ]
  },
  {
   "cell_type": "code",
   "execution_count": 84,
   "id": "4b10c91e",
   "metadata": {},
   "outputs": [
    {
     "name": "stdout",
     "output_type": "stream",
     "text": [
      "15\n"
     ]
    }
   ],
   "source": [
    "pca = PCA()\n",
    "pca.fit(hotels_num)\n",
    "cumsum = np.cumsum(pca.explained_variance_ratio_)\n",
    "d = np.argmax(cumsum >= 0.95) + 1\n",
    "print(d)"
   ]
  },
  {
   "cell_type": "markdown",
   "id": "c7d58385",
   "metadata": {},
   "source": [
    "So the lowest number of numeric columns we can get here is 15 (we'll make a note to not include company and agent later as part of NUM_COLS). Let's try just out of curiosity to see the predictive power of a model using only these numeric columns. Regardless of the result, we'll create our numeric column pipeline which will consist of dropping agent and company, scaling using StandardScaler then using PCA to remove one dimension."
   ]
  },
  {
   "cell_type": "code",
   "execution_count": 87,
   "id": "7f33ff43",
   "metadata": {},
   "outputs": [],
   "source": [
    "pca = PCA(n_components=15)\n",
    "hotels_num = pca.fit_transform(hotels_num)"
   ]
  },
  {
   "cell_type": "code",
   "execution_count": 88,
   "id": "ffa5fcaa",
   "metadata": {},
   "outputs": [
    {
     "data": {
      "text/plain": [
       "(95512, 15)"
      ]
     },
     "execution_count": 88,
     "metadata": {},
     "output_type": "execute_result"
    }
   ],
   "source": [
    "hotels_num.shape"
   ]
  },
  {
   "cell_type": "code",
   "execution_count": 89,
   "id": "c8139424",
   "metadata": {},
   "outputs": [],
   "source": [
    "from sklearn.linear_model import LogisticRegression"
   ]
  },
  {
   "cell_type": "code",
   "execution_count": 91,
   "id": "9342911c",
   "metadata": {},
   "outputs": [],
   "source": [
    "log_clf = LogisticRegression().fit(hotels_num, hotel_labels)"
   ]
  },
  {
   "cell_type": "code",
   "execution_count": 92,
   "id": "ae9ec865",
   "metadata": {},
   "outputs": [
    {
     "data": {
      "text/plain": [
       "0.7360226987184857"
      ]
     },
     "execution_count": 92,
     "metadata": {},
     "output_type": "execute_result"
    }
   ],
   "source": [
    "log_clf.score(hotels_num, hotel_labels)"
   ]
  },
  {
   "cell_type": "code",
   "execution_count": 93,
   "id": "15c4d440",
   "metadata": {},
   "outputs": [],
   "source": [
    "from sklearn.tree import DecisionTreeClassifier"
   ]
  },
  {
   "cell_type": "code",
   "execution_count": 95,
   "id": "6c09f46e",
   "metadata": {},
   "outputs": [],
   "source": [
    "tree_clf = DecisionTreeClassifier(max_depth=6, min_samples_leaf=0.1, random_state=1).fit(hotels_num, hotel_labels)"
   ]
  },
  {
   "cell_type": "code",
   "execution_count": 96,
   "id": "7c6fdbad",
   "metadata": {},
   "outputs": [
    {
     "data": {
      "text/plain": [
       "0.6886569226903426"
      ]
     },
     "execution_count": 96,
     "metadata": {},
     "output_type": "execute_result"
    }
   ],
   "source": [
    "tree_clf.score(hotels_num, hotel_labels)"
   ]
  },
  {
   "cell_type": "code",
   "execution_count": 97,
   "id": "7ff108fb",
   "metadata": {},
   "outputs": [],
   "source": [
    "from sklearn.ensemble import RandomForestClassifier"
   ]
  },
  {
   "cell_type": "code",
   "execution_count": 98,
   "id": "3cee4f68",
   "metadata": {},
   "outputs": [],
   "source": [
    "forest_clf = RandomForestClassifier().fit(hotels_num, hotel_labels)"
   ]
  },
  {
   "cell_type": "code",
   "execution_count": 99,
   "id": "6c010941",
   "metadata": {},
   "outputs": [
    {
     "data": {
      "text/plain": [
       "0.9901268950498366"
      ]
     },
     "execution_count": 99,
     "metadata": {},
     "output_type": "execute_result"
    }
   ],
   "source": [
    "forest_clf.score(hotels_num, hotel_labels)"
   ]
  },
  {
   "cell_type": "markdown",
   "id": "d6f18867",
   "metadata": {},
   "source": [
    "Now, let's move on to creating the numeric pipeline. It will consist of imputing 0s for missing values, scaling w/ StandardScaler, and reducing from 16 to 15 dimensions using PCA."
   ]
  },
  {
   "cell_type": "code",
   "execution_count": 101,
   "id": "2b1b4819",
   "metadata": {},
   "outputs": [],
   "source": [
    "from sklearn.pipeline import Pipeline"
   ]
  },
  {
   "cell_type": "code",
   "execution_count": 104,
   "id": "516edb78",
   "metadata": {},
   "outputs": [],
   "source": [
    "from sklearn.impute import SimpleImputer"
   ]
  },
  {
   "cell_type": "code",
   "execution_count": 106,
   "id": "01e72de0",
   "metadata": {},
   "outputs": [],
   "source": [
    "num_pipeline = Pipeline([('std_scaler', StandardScaler()), ('pca', PCA(n_components=15))])"
   ]
  },
  {
   "cell_type": "markdown",
   "id": "408f6958",
   "metadata": {},
   "source": [
    "Now, let's prepare the categorical data by encoding it and potentially reducing its dimenstionality."
   ]
  },
  {
   "cell_type": "code",
   "execution_count": 2,
   "id": "112613d3",
   "metadata": {},
   "outputs": [],
   "source": [
    "import numpy as np\n",
    "import pandas as pd\n",
    "import matplotlib.pyplot as plt\n",
    "import seaborn as sns\n",
    "%matplotlib inline"
   ]
  },
  {
   "cell_type": "code",
   "execution_count": 3,
   "id": "0c7195cd",
   "metadata": {},
   "outputs": [],
   "source": [
    "raw_data = pd.read_csv('hotel_booking.csv')\n",
    "\n",
    "from sklearn.model_selection import train_test_split\n",
    "\n",
    "train_set, test_set = train_test_split(raw_data, test_size = 0.2, random_state = 42,\\\n",
    "                                       stratify = raw_data['is_canceled'])"
   ]
  },
  {
   "cell_type": "code",
   "execution_count": 4,
   "id": "7bd16a36",
   "metadata": {},
   "outputs": [],
   "source": [
    "# Resetting train set and separating features from labels\n",
    "hotels = train_set.drop('is_canceled', axis=1)\n",
    "hotel_labels = train_set['is_canceled'].copy()"
   ]
  },
  {
   "cell_type": "code",
   "execution_count": 5,
   "id": "242274f8",
   "metadata": {},
   "outputs": [],
   "source": [
    "# Storing categorical columns for future reference\n",
    "CAT_COLS = ['hotel', 'arrival_date_month', 'market_segment','distribution_channel', \\\n",
    "                    'is_repeated_guest', 'reserved_room_type', 'assigned_room_type', \\\n",
    "                           'deposit_type', 'customer_type', 'reservation_status']"
   ]
  },
  {
   "cell_type": "code",
   "execution_count": 6,
   "id": "9d777d2c",
   "metadata": {},
   "outputs": [],
   "source": [
    "# Storing numeric columns by creating a correlation matrix (which only uses numbers) and getting its index\n",
    "NUM_COLS = list(hotels.corr().index)"
   ]
  },
  {
   "cell_type": "code",
   "execution_count": 7,
   "id": "e2a0cbf4",
   "metadata": {},
   "outputs": [],
   "source": [
    "# Removing column that is in fact a cat. variable\n",
    "NUM_COLS.remove('is_repeated_guest')"
   ]
  },
  {
   "cell_type": "code",
   "execution_count": 8,
   "id": "8088f67e",
   "metadata": {},
   "outputs": [],
   "source": [
    "from sklearn.decomposition import PCA, TruncatedSVD\n",
    "from sklearn.preprocessing import StandardScaler\n",
    "from sklearn.linear_model import LogisticRegression\n",
    "from sklearn.tree import DecisionTreeClassifier\n",
    "from sklearn.ensemble import RandomForestClassifier\n",
    "from sklearn.pipeline import Pipeline"
   ]
  },
  {
   "cell_type": "code",
   "execution_count": 9,
   "id": "d43d0548",
   "metadata": {},
   "outputs": [],
   "source": [
    "num_pipeline = Pipeline([('std_scaler', StandardScaler()), ('pca', PCA(n_components=15))])\n"
   ]
  },
  {
   "cell_type": "code",
   "execution_count": 10,
   "id": "7d60d097",
   "metadata": {},
   "outputs": [],
   "source": [
    "countries = hotels[['country']].copy()\n"
   ]
  },
  {
   "cell_type": "code",
   "execution_count": 11,
   "id": "c456da02",
   "metadata": {},
   "outputs": [
    {
     "name": "stdout",
     "output_type": "stream",
     "text": [
      "       country\n",
      "105447     IRL\n",
      "85242      FRA\n",
      "65604      PRT\n",
      "17345      GBR\n",
      "117786     ESP\n"
     ]
    }
   ],
   "source": [
    "print(countries.head())"
   ]
  },
  {
   "cell_type": "code",
   "execution_count": 12,
   "id": "0b2482c0",
   "metadata": {},
   "outputs": [],
   "source": [
    "from sklearn.base import BaseEstimator, TransformerMixin"
   ]
  },
  {
   "cell_type": "markdown",
   "id": "531f8115",
   "metadata": {},
   "source": [
    "countries = hotels[['country']].copy()"
   ]
  },
  {
   "cell_type": "code",
   "execution_count": 53,
   "id": "3871c18b",
   "metadata": {},
   "outputs": [],
   "source": [
    "class CategoryLimiter(BaseEstimator, TransformerMixin):\n",
    "\n",
    "\tdef __init__(self, threshold):\n",
    "\t\tself.threshold = threshold\n",
    "\n",
    "\tdef fit(self, X, y=None):\n",
    "\t\treturn self\n",
    "\n",
    "\tdef transform(self, X):\n",
    "\t\tassert isinstance(X, (pd.Series, pd.DataFrame))\n",
    "\t\tvalues_pct = pd.DataFrame(X.value_counts(normalize=True))\n",
    "\t\tcumsum = np.cumsum(values_pct.iloc[:,0])\n",
    "\t\tz = np.argmax(cumsum >= self.threshold) + 1\n",
    "\t\ttop_z_categories = list(values_pct.index[:z])\n",
    "\t\tother_cats = set(list(values_pct.index)).difference(set(top_z_categories))\n",
    "\t\tother_cats = list(other_cats)\n",
    "\t\tX.replace(other_cats, 'Other', inplace=True)\n",
    "\t\treturn X"
   ]
  },
  {
   "cell_type": "code",
   "execution_count": 48,
   "id": "94255fb4",
   "metadata": {},
   "outputs": [],
   "source": [
    "cat_lim = CategoryLimiter(threshold = 0.95)"
   ]
  },
  {
   "cell_type": "code",
   "execution_count": 49,
   "id": "c65a4fe4",
   "metadata": {},
   "outputs": [
    {
     "name": "stdout",
     "output_type": "stream",
     "text": [
      "[('PRT',), ('GBR',), ('FRA',), ('ESP',), ('DEU',), ('ITA',), ('IRL',), ('BEL',), ('BRA',), ('NLD',), ('USA',), ('CHE',), ('CN',), ('AUT',), ('SWE',), ('CHN',), ('POL',), ('ISR',), ('RUS',), ('NOR',), ('ROU',), ('AUS',), ('FIN',)]\n",
      "[('ARM',), ('IRQ',), ('LBY',), ('JPN',), ('ISL',), ('GLP',), ('HRV',), ('SGP',), ('PLW',), ('BIH',), ('GTM',), ('BGR',), ('ZMB',), ('TMP',), ('BHR',), ('MDG',), ('TGO',), ('AIA',), ('BHS',), ('NAM',), ('PAK',), ('ATA',), ('MCO',), ('MDV',), ('KAZ',), ('TWN',), ('VEN',), ('JEY',), ('TZA',), ('ZWE',), ('SAU',), ('CYM',), ('DMA',), ('GEO',), ('ECU',), ('NZL',), ('PRI',), ('GAB',), ('UZB',), ('SMR',), ('IDN',), ('MKD',), ('LKA',), ('HUN',), ('KOR',), ('NGA',), ('UMI',), ('OMN',), ('AGO',), ('JAM',), ('MWI',), ('MLI',), ('MAC',), ('SDN',), ('CUB',), ('LAO',), ('HND',), ('SUR',), ('TUN',), ('UKR',), ('SRB',), ('AND',), ('BLR',), ('SVK',), ('ATF',), ('CYP',), ('LUX',), ('URY',), ('SLV',), ('MUS',), ('VGB',), ('KNA',), ('SVN',), ('GHA',), ('COM',), ('QAT',), ('BGD',), ('PYF',), ('BRB',), ('UGA',), ('MAR',), ('RWA',), ('IRN',), ('NPL',), ('TUR',), ('CHL',), ('ALB',), ('BOL',), ('VNM',), ('MEX',), ('GNB',), ('CMR',), ('GRC',), ('COL',), ('ZAF',), ('JOR',), ('MOZ',), ('GIB',), ('CAF',), ('KEN',), ('MNE',), ('SEN',), ('MYS',), ('DOM',), ('EST',), ('LVA',), ('TJK',), ('FRO',), ('ARE',), ('MRT',), ('NCL',), ('MYT',), ('KHM',), ('ASM',), ('EGY',), ('CPV',), ('PAN',), ('HKG',), ('BFA',), ('PRY',), ('LBN',), ('CRI',), ('CZE',), ('PER',), ('DZA',), ('ABW',), ('NIC',), ('ARG',), ('DNK',), ('MLT',), ('SYR',), ('THA',), ('IMN',), ('BEN',), ('STP',), ('IND',), ('GGY',), ('MMR',), ('LIE',), ('DJI',), ('LTU',), ('FJI',), ('SLE',), ('CIV',), ('ETH',), ('KWT',), ('PHL',), ('AZE',), ('SYC',)]\n"
     ]
    },
    {
     "data": {
      "text/html": [
       "<div>\n",
       "<style scoped>\n",
       "    .dataframe tbody tr th:only-of-type {\n",
       "        vertical-align: middle;\n",
       "    }\n",
       "\n",
       "    .dataframe tbody tr th {\n",
       "        vertical-align: top;\n",
       "    }\n",
       "\n",
       "    .dataframe thead th {\n",
       "        text-align: right;\n",
       "    }\n",
       "</style>\n",
       "<table border=\"1\" class=\"dataframe\">\n",
       "  <thead>\n",
       "    <tr style=\"text-align: right;\">\n",
       "      <th></th>\n",
       "      <th>country</th>\n",
       "    </tr>\n",
       "  </thead>\n",
       "  <tbody>\n",
       "    <tr>\n",
       "      <th>105447</th>\n",
       "      <td>IRL</td>\n",
       "    </tr>\n",
       "    <tr>\n",
       "      <th>85242</th>\n",
       "      <td>FRA</td>\n",
       "    </tr>\n",
       "    <tr>\n",
       "      <th>65604</th>\n",
       "      <td>PRT</td>\n",
       "    </tr>\n",
       "    <tr>\n",
       "      <th>17345</th>\n",
       "      <td>GBR</td>\n",
       "    </tr>\n",
       "    <tr>\n",
       "      <th>117786</th>\n",
       "      <td>ESP</td>\n",
       "    </tr>\n",
       "    <tr>\n",
       "      <th>...</th>\n",
       "      <td>...</td>\n",
       "    </tr>\n",
       "    <tr>\n",
       "      <th>104906</th>\n",
       "      <td>Other</td>\n",
       "    </tr>\n",
       "    <tr>\n",
       "      <th>50818</th>\n",
       "      <td>RUS</td>\n",
       "    </tr>\n",
       "    <tr>\n",
       "      <th>36939</th>\n",
       "      <td>CN</td>\n",
       "    </tr>\n",
       "    <tr>\n",
       "      <th>14587</th>\n",
       "      <td>GBR</td>\n",
       "    </tr>\n",
       "    <tr>\n",
       "      <th>6068</th>\n",
       "      <td>GBR</td>\n",
       "    </tr>\n",
       "  </tbody>\n",
       "</table>\n",
       "<p>95512 rows × 1 columns</p>\n",
       "</div>"
      ],
      "text/plain": [
       "       country\n",
       "105447     IRL\n",
       "85242      FRA\n",
       "65604      PRT\n",
       "17345      GBR\n",
       "117786     ESP\n",
       "...        ...\n",
       "104906   Other\n",
       "50818      RUS\n",
       "36939       CN\n",
       "14587      GBR\n",
       "6068       GBR\n",
       "\n",
       "[95512 rows x 1 columns]"
      ]
     },
     "execution_count": 49,
     "metadata": {},
     "output_type": "execute_result"
    }
   ],
   "source": [
    "cat_lim.fit_transform(countries)"
   ]
  },
  {
   "cell_type": "code",
   "execution_count": 51,
   "id": "3eb7498f",
   "metadata": {},
   "outputs": [
    {
     "data": {
      "text/plain": [
       "country\n",
       "PRT        38934\n",
       "GBR         9684\n",
       "FRA         8318\n",
       "ESP         6832\n",
       "DEU         5838\n",
       "Other       4419\n",
       "ITA         2992\n",
       "IRL         2681\n",
       "BEL         1882\n",
       "BRA         1775\n",
       "NLD         1706\n",
       "USA         1666\n",
       "CHE         1383\n",
       "CN          1010\n",
       "AUT         1006\n",
       "SWE          817\n",
       "CHN          801\n",
       "POL          731\n",
       "ISR          533\n",
       "RUS          520\n",
       "NOR          468\n",
       "ROU          404\n",
       "AUS          364\n",
       "FIN          357\n",
       "dtype: int64"
      ]
     },
     "execution_count": 51,
     "metadata": {},
     "output_type": "execute_result"
    }
   ],
   "source": [
    "countries.value_counts()"
   ]
  },
  {
   "cell_type": "code",
   "execution_count": 52,
   "id": "74f45902",
   "metadata": {},
   "outputs": [
    {
     "data": {
      "text/plain": [
       "(24,)"
      ]
     },
     "execution_count": 52,
     "metadata": {},
     "output_type": "execute_result"
    }
   ],
   "source": [
    "countries.value_counts().shape"
   ]
  },
  {
   "cell_type": "markdown",
   "id": "44c691b4",
   "metadata": {},
   "source": [
    "We have now created our custom CategoryLimiter transformer that will reduce the number of country dimensions to the countries representing 95% of the instances, or in this case, 24. This number still seems a bit high, so let's see whether we can reduce it further using PCA."
   ]
  },
  {
   "cell_type": "code",
   "execution_count": 54,
   "id": "d1c71feb",
   "metadata": {},
   "outputs": [],
   "source": [
    "from sklearn.preprocessing import OneHotEncoder"
   ]
  },
  {
   "cell_type": "code",
   "execution_count": 55,
   "id": "6f5ae539",
   "metadata": {},
   "outputs": [],
   "source": [
    "encoder = OneHotEncoder()"
   ]
  },
  {
   "cell_type": "code",
   "execution_count": 70,
   "id": "2977b5ea",
   "metadata": {},
   "outputs": [],
   "source": [
    "svd = TruncatedSVD(n_components=20, random_state=42)"
   ]
  },
  {
   "cell_type": "code",
   "execution_count": 71,
   "id": "602262f2",
   "metadata": {
    "scrolled": true
   },
   "outputs": [
    {
     "data": {
      "text/plain": [
       "TruncatedSVD(n_components=20, random_state=42)"
      ]
     },
     "execution_count": 71,
     "metadata": {},
     "output_type": "execute_result"
    }
   ],
   "source": [
    "svd.fit(countries)"
   ]
  },
  {
   "cell_type": "code",
   "execution_count": 72,
   "id": "4b4829d1",
   "metadata": {},
   "outputs": [],
   "source": [
    "cumsum = np.cumsum(svd.explained_variance_ratio_)\n",
    "d = np.argmax(cumsum >= 0.9) + 1"
   ]
  },
  {
   "cell_type": "code",
   "execution_count": 73,
   "id": "791f7735",
   "metadata": {},
   "outputs": [
    {
     "name": "stdout",
     "output_type": "stream",
     "text": [
      "13\n"
     ]
    }
   ],
   "source": [
    "print(d)"
   ]
  },
  {
   "cell_type": "markdown",
   "id": "24b08c7a",
   "metadata": {},
   "source": [
    "Next steps: work with categorical data all together, then use columntransformer for country + other categorical columns then featureiunion to unite country/categorical w/ numerical data."
   ]
  },
  {
   "cell_type": "markdown",
   "id": "ab9e79c6",
   "metadata": {},
   "source": [
    "Immediate next steps: edit the numeric pipeline to add SimpleImputer with strategy to fill NAs with 0s, keep standardscaler and take out PCA. PCA will be the last step applied to the whole of the data set combined. So:  \n",
    "\n",
    "Numeric pipeline: SimpleImputer(0s), StandardScaler()  \n",
    "Country pipeline: SimpleImputer (Other), CategoryLimiter(95%), OneHotEncoder  \n",
    "Full pipeline: pipeline(Columtransfomer(numeric(num_cols), country(country_col), onehotencoder(cat_cols), PCA or TSVD)"
   ]
  },
  {
   "cell_type": "code",
   "execution_count": 77,
   "id": "421b663b",
   "metadata": {},
   "outputs": [],
   "source": [
    "from sklearn.impute import SimpleImputer"
   ]
  },
  {
   "cell_type": "code",
   "execution_count": 78,
   "id": "c4dec8a6",
   "metadata": {},
   "outputs": [],
   "source": [
    "num_pipeline = Pipeline([('imputer', SimpleImputer(strategy='constant', fill_value=0)), \\\n",
    "                         ('std_scaler', StandardScaler())])"
   ]
  },
  {
   "cell_type": "code",
   "execution_count": 79,
   "id": "9711a8c3",
   "metadata": {},
   "outputs": [],
   "source": [
    "country_pipeline = Pipeline([('imputer', SimpleImputer(strategy='constant', fill_value='Other')), \\\n",
    "                                ('limiter', CategoryLimiter(threshold=0.95)), \\\n",
    "                                    ('encoder', OneHotEncoder())])"
   ]
  },
  {
   "cell_type": "code",
   "execution_count": 80,
   "id": "7f4650e2",
   "metadata": {},
   "outputs": [],
   "source": [
    "countries = hotels[['country']].copy()"
   ]
  },
  {
   "cell_type": "code",
   "execution_count": 81,
   "id": "60503781",
   "metadata": {},
   "outputs": [
    {
     "name": "stdout",
     "output_type": "stream",
     "text": [
      "['hotel', 'arrival_date_month', 'market_segment', 'distribution_channel', 'is_repeated_guest', 'reserved_room_type', 'assigned_room_type', 'deposit_type', 'customer_type', 'reservation_status']\n",
      "['lead_time', 'arrival_date_year', 'arrival_date_week_number', 'arrival_date_day_of_month', 'stays_in_weekend_nights', 'stays_in_week_nights', 'adults', 'children', 'babies', 'previous_cancellations', 'previous_bookings_not_canceled', 'booking_changes', 'agent', 'company', 'days_in_waiting_list', 'adr', 'required_car_parking_spaces', 'total_of_special_requests']\n"
     ]
    }
   ],
   "source": [
    "print(CAT_COLS)\n",
    "print(NUM_COLS)"
   ]
  },
  {
   "cell_type": "code",
   "execution_count": 84,
   "id": "c18fd3c3",
   "metadata": {},
   "outputs": [
    {
     "name": "stdout",
     "output_type": "stream",
     "text": [
      "['country']\n",
      "<class 'list'>\n"
     ]
    }
   ],
   "source": [
    "COUNTRY_COL = list(countries.columns)\n",
    "print(COUNTRY_COL)\n",
    "print(type(COUNTRY_COL))"
   ]
  },
  {
   "cell_type": "code",
   "execution_count": 85,
   "id": "17b447fd",
   "metadata": {},
   "outputs": [],
   "source": [
    "from sklearn.compose import ColumnTransformer"
   ]
  },
  {
   "cell_type": "code",
   "execution_count": 86,
   "id": "e907763e",
   "metadata": {},
   "outputs": [],
   "source": [
    "beta_pipeline = ColumnTransformer([('num', num_pipeline, NUM_COLS), ('country', country_pipeline, COUNTRY_COL), \\\n",
    "                                      ('cat', OneHotEncoder(), CAT_COLS)])"
   ]
  },
  {
   "cell_type": "code",
   "execution_count": 99,
   "id": "9999fdcd",
   "metadata": {},
   "outputs": [],
   "source": [
    "# Resetting training set\n",
    "hotels = train_set.drop('is_canceled', axis=1).copy()"
   ]
  },
  {
   "cell_type": "code",
   "execution_count": 88,
   "id": "d152e4cb",
   "metadata": {},
   "outputs": [],
   "source": [
    "svd = TruncatedSVD(n_components=30, random_state=42)"
   ]
  },
  {
   "cell_type": "code",
   "execution_count": 90,
   "id": "38f85f05",
   "metadata": {},
   "outputs": [],
   "source": [
    "country_pipeline = Pipeline([('limiter', CategoryLimiter(threshold=0.95)), \\\n",
    "                             ('imputer', SimpleImputer(strategy='constant', fill_value='Other')), \\\n",
    "                                    ('encoder', OneHotEncoder())])"
   ]
  },
  {
   "cell_type": "code",
   "execution_count": 91,
   "id": "c8db033a",
   "metadata": {},
   "outputs": [],
   "source": [
    "beta_pipeline = ColumnTransformer([('num', num_pipeline, NUM_COLS), ('country', country_pipeline, COUNTRY_COL), \\\n",
    "                                      ('cat', OneHotEncoder(), CAT_COLS)])"
   ]
  },
  {
   "cell_type": "code",
   "execution_count": 92,
   "id": "5537ac75",
   "metadata": {},
   "outputs": [],
   "source": [
    "hotels = train_set.drop('is_canceled', axis=1).copy()"
   ]
  },
  {
   "cell_type": "code",
   "execution_count": 93,
   "id": "e940c025",
   "metadata": {},
   "outputs": [],
   "source": [
    "hotels_transformed = beta_pipeline.fit_transform(hotels)"
   ]
  },
  {
   "cell_type": "code",
   "execution_count": 94,
   "id": "d0f5e53b",
   "metadata": {},
   "outputs": [
    {
     "data": {
      "text/plain": [
       "<95512x103 sparse matrix of type '<class 'numpy.float64'>'\n",
       "\twith 2769848 stored elements in Compressed Sparse Row format>"
      ]
     },
     "execution_count": 94,
     "metadata": {},
     "output_type": "execute_result"
    }
   ],
   "source": [
    "hotels_transformed"
   ]
  },
  {
   "cell_type": "code",
   "execution_count": 96,
   "id": "7b3e8ca9",
   "metadata": {},
   "outputs": [
    {
     "name": "stdout",
     "output_type": "stream",
     "text": [
      "[0.00488913 0.09961102 0.17638764 0.24306514 0.30852287 0.35838777\n",
      " 0.40734211 0.4543019  0.49926355 0.5419497  0.5827377  0.62166353\n",
      " 0.65897301 0.69356996 0.72716918 0.75929941 0.78772589 0.80883786\n",
      " 0.82870131 0.84667888 0.86314618 0.87773772 0.88812149 0.89734921\n",
      " 0.90414051 0.91074202 0.91640515 0.92203379 0.92673476 0.93092396]\n"
     ]
    }
   ],
   "source": [
    "svd.fit(hotels_transformed)\n",
    "cumsum = np.cumsum(svd.explained_variance_ratio_)\n",
    "print(cumsum)"
   ]
  },
  {
   "cell_type": "code",
   "execution_count": 97,
   "id": "7ff2a6f1",
   "metadata": {},
   "outputs": [
    {
     "name": "stdout",
     "output_type": "stream",
     "text": [
      "[0.00488913 0.09961102 0.17638764 0.24306514 0.30852287 0.35838777\n",
      " 0.40734211 0.4543019  0.49926355 0.5419497  0.5827377  0.62166353\n",
      " 0.65897301 0.69356996 0.72716918 0.75929941 0.78772589 0.80883786\n",
      " 0.82870131 0.84667888 0.86314618 0.87773772 0.88812149 0.89734923\n",
      " 0.9041406  0.91074227 0.91640558 0.92203491 0.92673951 0.93093342\n",
      " 0.93499754 0.938881   0.94272306 0.94647937 0.94989293]\n"
     ]
    }
   ],
   "source": [
    "svd = TruncatedSVD(n_components=35, random_state=42)\n",
    "svd.fit(hotels_transformed)\n",
    "cumsum = np.cumsum(svd.explained_variance_ratio_)\n",
    "print(cumsum)"
   ]
  },
  {
   "cell_type": "markdown",
   "id": "44f915dd",
   "metadata": {},
   "source": [
    "Therefore, we can capture 94.99% of the variance w/ only 35 features. Let's add 36 to definitely surpass 95% of the variance and use this hyperparameter to create and add a TruncatedSVD object to our final pipeline and finally begin model selection and evaluation."
   ]
  },
  {
   "cell_type": "code",
   "execution_count": 98,
   "id": "06e88d3c",
   "metadata": {},
   "outputs": [],
   "source": [
    "# Full pipeline object, with appropriate transformations for each column type united by a ColumnTransformer\n",
    "# object followed by a TruncatedSVD reducing the dataset to 36 features, which capture 95% of the variance\n",
    "full_pipeline = Pipeline([('column_transformer', ColumnTransformer([('num', num_pipeline, NUM_COLS), \\\n",
    "                                ('country', country_pipeline, COUNTRY_COL), \\\n",
    "                                      ('cat', OneHotEncoder(), CAT_COLS)])), \\\n",
    "                                          ('svd', TruncatedSVD(n_components=36, random_state=42))])"
   ]
  },
  {
   "cell_type": "code",
   "execution_count": 100,
   "id": "33a17183",
   "metadata": {},
   "outputs": [],
   "source": [
    "# Resetting training set\n",
    "hotels = train_set.drop('is_canceled', axis=1).copy()"
   ]
  },
  {
   "cell_type": "code",
   "execution_count": 101,
   "id": "b913a968",
   "metadata": {},
   "outputs": [],
   "source": [
    "hotels_prepared = full_pipeline.fit_transform(hotels)"
   ]
  },
  {
   "cell_type": "code",
   "execution_count": 103,
   "id": "54fa2986",
   "metadata": {},
   "outputs": [
    {
     "data": {
      "text/plain": [
       "(95512, 36)"
      ]
     },
     "execution_count": 103,
     "metadata": {},
     "output_type": "execute_result"
    }
   ],
   "source": [
    "hotels_prepared.shape"
   ]
  },
  {
   "cell_type": "markdown",
   "id": "9a158904",
   "metadata": {},
   "source": [
    "# Final Model Selection/Evaluation"
   ]
  },
  {
   "cell_type": "code",
   "execution_count": 105,
   "id": "cc39fd2a",
   "metadata": {},
   "outputs": [],
   "source": [
    "tree_clf = DecisionTreeClassifier(max_depth=6, min_samples_leaf=0.1, random_state=1)"
   ]
  },
  {
   "cell_type": "code",
   "execution_count": 106,
   "id": "dcf9070c",
   "metadata": {},
   "outputs": [
    {
     "data": {
      "text/plain": [
       "DecisionTreeClassifier(max_depth=6, min_samples_leaf=0.1, random_state=1)"
      ]
     },
     "execution_count": 106,
     "metadata": {},
     "output_type": "execute_result"
    }
   ],
   "source": [
    "tree_clf.fit(hotels_prepared, hotel_labels)"
   ]
  },
  {
   "cell_type": "code",
   "execution_count": 113,
   "id": "86c2f87f",
   "metadata": {},
   "outputs": [
    {
     "data": {
      "text/plain": [
       "0.850353882234693"
      ]
     },
     "execution_count": 113,
     "metadata": {},
     "output_type": "execute_result"
    }
   ],
   "source": [
    "tree_clf.score(hotels_prepared, hotel_labels)"
   ]
  },
  {
   "cell_type": "code",
   "execution_count": 108,
   "id": "5e88fb3b",
   "metadata": {},
   "outputs": [],
   "source": [
    "log_clf = LogisticRegression().fit(hotels_prepared, hotel_labels)"
   ]
  },
  {
   "cell_type": "code",
   "execution_count": 109,
   "id": "eef32d2a",
   "metadata": {},
   "outputs": [
    {
     "data": {
      "text/plain": [
       "1.0"
      ]
     },
     "execution_count": 109,
     "metadata": {},
     "output_type": "execute_result"
    }
   ],
   "source": [
    "log_clf.score(hotels_prepared, hotel_labels)"
   ]
  },
  {
   "cell_type": "code",
   "execution_count": 115,
   "id": "0308dba4",
   "metadata": {},
   "outputs": [],
   "source": [
    "from sklearn.metrics import roc_auc_score\n",
    "from sklearn.model_selection import cross_val_score"
   ]
  },
  {
   "cell_type": "markdown",
   "id": "7e11abac",
   "metadata": {},
   "source": [
    "Now, let's evaluate both of these rudimentary models using AUC and cross-validation."
   ]
  },
  {
   "cell_type": "code",
   "execution_count": 120,
   "id": "72ac856a",
   "metadata": {},
   "outputs": [],
   "source": [
    "def score_classifier(model, X, y):\n",
    "\t\"\"\"Does something. Edit this later.\"\"\"\n",
    "\n",
    "\t# Compute cross-validated Acc. scores: cv_accuracy\n",
    "\tcv_accuracy = cross_val_score(model, X, y, cv=10, scoring='accuracy')\n",
    "\n",
    "\t# Print list of Acc. scores\n",
    "\tprint(f\"Accuracy scores computed using 10-fold cross-validation: {cv_accuracy}\")\n",
    "\tprint(f\"Mean accuracy score computed using 10-fold cross-validation: {cv_accuracy.mean()}\")\n",
    "\tprint(f\"Accuracy score std. deviation computed using 10-fold cross-validation: {cv_accuracy.std()}\")\n"
   ]
  },
  {
   "cell_type": "code",
   "execution_count": 121,
   "id": "dc48e3a5",
   "metadata": {},
   "outputs": [
    {
     "name": "stdout",
     "output_type": "stream",
     "text": [
      "Accuracy scores computed using 10-fold cross-validation: [0.84694305 0.84872278 0.85101037 0.84671762 0.84839284 0.85331379\n",
      " 0.85258088 0.8445189  0.853942   0.84923045]\n",
      "Mean accuracy score computed using 10-fold cross-validation: 0.849537266612615\n",
      "Accuracy score std. deviation computed using 10-fold cross-validation: 0.0029500677808970573\n",
      "Accuracy scores computed using 10-fold cross-validation: [1.        1.        1.        1.        1.        0.9998953 1.\n",
      " 1.        1.        1.       ]\n",
      "Mean accuracy score computed using 10-fold cross-validation: 0.999989529892158\n",
      "Accuracy score std. deviation computed using 10-fold cross-validation: 3.1410323526326334e-05\n"
     ]
    }
   ],
   "source": [
    "score_classifier(tree_clf, hotels_prepared, hotel_labels)\n",
    "score_classifier(log_clf, hotels_prepared, hotel_labels)"
   ]
  },
  {
   "cell_type": "code",
   "execution_count": 122,
   "id": "ff2ab8b3",
   "metadata": {},
   "outputs": [
    {
     "data": {
      "text/plain": [
       "array([[ 2.34355401, -1.55313388, -3.71158085, ..., -0.13656376,\n",
       "        -0.13123568, -0.04309134],\n",
       "       [ 2.48252849, -0.84512169, -0.8126376 , ...,  0.58113299,\n",
       "         0.4895435 ,  0.50241186],\n",
       "       [ 2.42946182, -0.38827406, -0.33002859, ..., -0.35423937,\n",
       "         0.04169682, -0.03494081],\n",
       "       ...,\n",
       "       [ 2.11816329,  1.69958954, -0.68457788, ...,  0.10877576,\n",
       "        -0.1925053 , -0.21860192],\n",
       "       [ 1.86049853,  1.23743236,  0.71456919, ..., -0.04406991,\n",
       "        -0.46403934,  0.20435132],\n",
       "       [ 1.93421178, -1.05101838,  0.09666959, ..., -0.3294096 ,\n",
       "        -0.24233725,  0.02393333]])"
      ]
     },
     "execution_count": 122,
     "metadata": {},
     "output_type": "execute_result"
    }
   ],
   "source": [
    "hotels_prepared"
   ]
  },
  {
   "cell_type": "code",
   "execution_count": 123,
   "id": "db21cec5",
   "metadata": {},
   "outputs": [
    {
     "data": {
      "text/plain": [
       "(95512, 36)"
      ]
     },
     "execution_count": 123,
     "metadata": {},
     "output_type": "execute_result"
    }
   ],
   "source": [
    "hotels_prepared.shape"
   ]
  },
  {
   "cell_type": "code",
   "execution_count": 124,
   "id": "a6bb2bc0",
   "metadata": {},
   "outputs": [
    {
     "data": {
      "text/plain": [
       "105447    0\n",
       "85242     0\n",
       "65604     1\n",
       "17345     0\n",
       "117786    0\n",
       "         ..\n",
       "104906    0\n",
       "50818     1\n",
       "36939     0\n",
       "14587     1\n",
       "6068      0\n",
       "Name: is_canceled, Length: 95512, dtype: int64"
      ]
     },
     "execution_count": 124,
     "metadata": {},
     "output_type": "execute_result"
    }
   ],
   "source": [
    "hotel_labels"
   ]
  },
  {
   "cell_type": "code",
   "execution_count": 125,
   "id": "e0c24d4c",
   "metadata": {},
   "outputs": [],
   "source": [
    "log_clf = LogisticRegression()"
   ]
  },
  {
   "cell_type": "code",
   "execution_count": 126,
   "id": "a6b7656b",
   "metadata": {},
   "outputs": [
    {
     "data": {
      "text/plain": [
       "LogisticRegression()"
      ]
     },
     "execution_count": 126,
     "metadata": {},
     "output_type": "execute_result"
    }
   ],
   "source": [
    "log_clf.fit(hotels_prepared, hotel_labels)"
   ]
  },
  {
   "cell_type": "code",
   "execution_count": 127,
   "id": "a4aeddd2",
   "metadata": {},
   "outputs": [
    {
     "name": "stdout",
     "output_type": "stream",
     "text": [
      "Accuracy scores computed using 10-fold cross-validation: [1.        1.        1.        1.        1.        0.9998953 1.\n",
      " 1.        1.        1.       ]\n",
      "Mean accuracy score computed using 10-fold cross-validation: 0.999989529892158\n",
      "Accuracy score std. deviation computed using 10-fold cross-validation: 3.1410323526326334e-05\n"
     ]
    }
   ],
   "source": [
    "score_classifier(log_clf, hotels_prepared, hotel_labels)"
   ]
  },
  {
   "cell_type": "code",
   "execution_count": 130,
   "id": "d2f8019a",
   "metadata": {},
   "outputs": [],
   "source": [
    "log_clf = LogisticRegression(C=0.2, random_state=42)"
   ]
  },
  {
   "cell_type": "code",
   "execution_count": 131,
   "id": "29d219ef",
   "metadata": {},
   "outputs": [
    {
     "data": {
      "text/plain": [
       "LogisticRegression(C=0.2, random_state=42)"
      ]
     },
     "execution_count": 131,
     "metadata": {},
     "output_type": "execute_result"
    }
   ],
   "source": [
    "log_clf.fit(hotels_prepared, hotel_labels)"
   ]
  },
  {
   "cell_type": "code",
   "execution_count": 132,
   "id": "d9a6bf61",
   "metadata": {},
   "outputs": [
    {
     "name": "stdout",
     "output_type": "stream",
     "text": [
      "Accuracy scores computed using 10-fold cross-validation: [1.        1.        1.        1.        1.        0.9998953 1.\n",
      " 1.        1.        1.       ]\n",
      "Mean accuracy score computed using 10-fold cross-validation: 0.999989529892158\n",
      "Accuracy score std. deviation computed using 10-fold cross-validation: 3.1410323526326334e-05\n"
     ]
    }
   ],
   "source": [
    "score_classifier(log_clf, hotels_prepared, hotel_labels)"
   ]
  },
  {
   "cell_type": "code",
   "execution_count": 134,
   "id": "aaf221fe",
   "metadata": {},
   "outputs": [],
   "source": [
    "from sklearn.svm import SVC"
   ]
  },
  {
   "cell_type": "code",
   "execution_count": 135,
   "id": "00b4e91e",
   "metadata": {},
   "outputs": [],
   "source": [
    "svm_clf = SVC(kernel='poly', degree=3, coef0=1, C=5)"
   ]
  },
  {
   "cell_type": "code",
   "execution_count": 136,
   "id": "f9273606",
   "metadata": {},
   "outputs": [
    {
     "data": {
      "text/plain": [
       "SVC(C=5, coef0=1, kernel='poly')"
      ]
     },
     "execution_count": 136,
     "metadata": {},
     "output_type": "execute_result"
    }
   ],
   "source": [
    "svm_clf.fit(hotels_prepared, hotel_labels)"
   ]
  },
  {
   "cell_type": "code",
   "execution_count": 137,
   "id": "37bf3500",
   "metadata": {},
   "outputs": [
    {
     "data": {
      "text/plain": [
       "1.0"
      ]
     },
     "execution_count": 137,
     "metadata": {},
     "output_type": "execute_result"
    }
   ],
   "source": [
    "svm_clf.score(hotels_prepared, hotel_labels)"
   ]
  },
  {
   "cell_type": "code",
   "execution_count": 1,
   "id": "9329dae1",
   "metadata": {},
   "outputs": [
    {
     "name": "stdout",
     "output_type": "stream",
     "text": [
      "2\n"
     ]
    }
   ],
   "source": [
    "print(1+1)"
   ]
  },
  {
   "cell_type": "code",
   "execution_count": 2,
   "id": "ca3c7770",
   "metadata": {},
   "outputs": [],
   "source": [
    "import numpy as np\n",
    "import pandas as pd\n",
    "import matplotlib.pyplot as plt\n",
    "import seaborn as sns\n",
    "%matplotlib inline"
   ]
  },
  {
   "cell_type": "code",
   "execution_count": 3,
   "id": "aa5012ed",
   "metadata": {},
   "outputs": [],
   "source": [
    "raw_data = pd.read_csv('hotel_booking.csv')\n",
    "\n",
    "from sklearn.model_selection import train_test_split\n",
    "\n",
    "train_set, test_set = train_test_split(raw_data, test_size = 0.2, random_state = 42,\\\n",
    "                                       stratify = raw_data['is_canceled'])"
   ]
  },
  {
   "cell_type": "code",
   "execution_count": 4,
   "id": "df84631e",
   "metadata": {},
   "outputs": [],
   "source": [
    "# Resetting train set and separating features from labels\n",
    "hotels = train_set.drop('is_canceled', axis=1)\n",
    "hotel_labels = train_set['is_canceled'].copy()"
   ]
  },
  {
   "cell_type": "code",
   "execution_count": 5,
   "id": "549fb13e",
   "metadata": {},
   "outputs": [],
   "source": [
    "# Storing categorical columns for future reference\n",
    "CAT_COLS = ['hotel', 'arrival_date_month', 'market_segment','distribution_channel', \\\n",
    "                    'is_repeated_guest', 'reserved_room_type', 'assigned_room_type', \\\n",
    "                           'deposit_type', 'customer_type', 'reservation_status']\n",
    "# Storing numeric columns by creating a correlation matrix (which only uses numbers) and getting its index\n",
    "NUM_COLS = list(hotels.corr().index)\n"
   ]
  },
  {
   "cell_type": "code",
   "execution_count": 6,
   "id": "9fcd1b87",
   "metadata": {},
   "outputs": [],
   "source": [
    "# Removing column that is in fact a cat. variable\n",
    "NUM_COLS.remove('is_repeated_guest')"
   ]
  },
  {
   "cell_type": "code",
   "execution_count": 7,
   "id": "70595361",
   "metadata": {},
   "outputs": [
    {
     "name": "stdout",
     "output_type": "stream",
     "text": [
      "['hotel', 'arrival_date_month', 'market_segment', 'distribution_channel', 'is_repeated_guest', 'reserved_room_type', 'assigned_room_type', 'deposit_type', 'customer_type', 'reservation_status']\n",
      "['lead_time', 'arrival_date_year', 'arrival_date_week_number', 'arrival_date_day_of_month', 'stays_in_weekend_nights', 'stays_in_week_nights', 'adults', 'children', 'babies', 'previous_cancellations', 'previous_bookings_not_canceled', 'booking_changes', 'agent', 'company', 'days_in_waiting_list', 'adr', 'required_car_parking_spaces', 'total_of_special_requests']\n"
     ]
    }
   ],
   "source": [
    "print(CAT_COLS)\n",
    "print(NUM_COLS)"
   ]
  },
  {
   "cell_type": "code",
   "execution_count": 8,
   "id": "815e3655",
   "metadata": {},
   "outputs": [],
   "source": [
    "from sklearn.decomposition import PCA, TruncatedSVD\n",
    "from sklearn.preprocessing import StandardScaler\n",
    "from sklearn.linear_model import LogisticRegression\n",
    "from sklearn.tree import DecisionTreeClassifier\n",
    "from sklearn.ensemble import RandomForestClassifier\n",
    "from sklearn.pipeline import Pipeline"
   ]
  },
  {
   "cell_type": "code",
   "execution_count": 11,
   "id": "9b37e6dd",
   "metadata": {},
   "outputs": [],
   "source": [
    "from sklearn.base import BaseEstimator, TransformerMixin\n"
   ]
  },
  {
   "cell_type": "code",
   "execution_count": 12,
   "id": "abbe23f0",
   "metadata": {},
   "outputs": [],
   "source": [
    "class CategoryLimiter(BaseEstimator, TransformerMixin):\n",
    "\n",
    "\tdef __init__(self, threshold):\n",
    "\t\tself.threshold = threshold\n",
    "\n",
    "\tdef fit(self, X, y=None):\n",
    "\t\treturn self\n",
    "\n",
    "\tdef transform(self, X):\n",
    "\t\tassert isinstance(X, (pd.Series, pd.DataFrame))\n",
    "\t\tvalues_pct = pd.DataFrame(X.value_counts(normalize=True))\n",
    "\t\tcumsum = np.cumsum(values_pct.iloc[:,0])\n",
    "\t\tz = np.argmax(cumsum >= self.threshold) + 1\n",
    "\t\ttop_z_categories = list(values_pct.index[:z])\n",
    "\t\tother_cats = set(list(values_pct.index)).difference(set(top_z_categories))\n",
    "\t\tother_cats = list(other_cats)\n",
    "\t\tX.replace(other_cats, 'Other', inplace=True)\n",
    "\t\treturn X"
   ]
  },
  {
   "cell_type": "code",
   "execution_count": 13,
   "id": "e6ce88ef",
   "metadata": {},
   "outputs": [],
   "source": [
    "from sklearn.preprocessing import OneHotEncoder\n",
    "from sklearn.impute import SimpleImputer"
   ]
  },
  {
   "cell_type": "code",
   "execution_count": 14,
   "id": "33020308",
   "metadata": {},
   "outputs": [],
   "source": [
    "from sklearn.compose import ColumnTransformer\n"
   ]
  },
  {
   "cell_type": "code",
   "execution_count": 15,
   "id": "f79dda14",
   "metadata": {},
   "outputs": [],
   "source": [
    "num_pipeline = Pipeline([('imputer', SimpleImputer(strategy='constant', fill_value=0)), \\\n",
    "                         ('std_scaler', StandardScaler())])\n",
    "\n",
    "\n",
    "country_pipeline = Pipeline([('limiter', CategoryLimiter(threshold=0.95)), \\\n",
    "                             ('imputer', SimpleImputer(strategy='constant', fill_value='Other')), \\\n",
    "                                    ('encoder', OneHotEncoder())])"
   ]
  },
  {
   "cell_type": "code",
   "execution_count": 17,
   "id": "41f4bbfd",
   "metadata": {},
   "outputs": [
    {
     "name": "stdout",
     "output_type": "stream",
     "text": [
      "['hotel', 'arrival_date_month', 'market_segment', 'distribution_channel', 'is_repeated_guest', 'reserved_room_type', 'assigned_room_type', 'deposit_type', 'customer_type', 'reservation_status']\n"
     ]
    }
   ],
   "source": [
    "print(CAT_COLS)"
   ]
  },
  {
   "cell_type": "code",
   "execution_count": 18,
   "id": "3395515c",
   "metadata": {},
   "outputs": [
    {
     "name": "stdout",
     "output_type": "stream",
     "text": [
      "['country']\n",
      "<class 'list'>\n"
     ]
    }
   ],
   "source": [
    "countries = hotels[['country']].copy()\n",
    "\n",
    "COUNTRY_COL = list(countries.columns)\n",
    "print(COUNTRY_COL)\n",
    "print(type(COUNTRY_COL))\n"
   ]
  },
  {
   "cell_type": "code",
   "execution_count": 19,
   "id": "45a93e0f",
   "metadata": {},
   "outputs": [],
   "source": [
    "# Full pipeline object, with appropriate transformations for each column type united by a ColumnTransformer\n",
    "# object followed by a TruncatedSVD reducing the dataset to 36 features, which capture 95% of the variance\n",
    "full_pipeline = Pipeline([('column_transformer', ColumnTransformer([('num', num_pipeline, NUM_COLS), \\\n",
    "                                ('country', country_pipeline, COUNTRY_COL), \\\n",
    "                                      ('cat', OneHotEncoder(), CAT_COLS)])), \\\n",
    "                                          ('svd', TruncatedSVD(n_components=36, random_state=42))])"
   ]
  },
  {
   "cell_type": "code",
   "execution_count": 20,
   "id": "1544ddec",
   "metadata": {},
   "outputs": [
    {
     "data": {
      "text/plain": [
       "(95512, 36)"
      ]
     },
     "execution_count": 20,
     "metadata": {},
     "output_type": "execute_result"
    }
   ],
   "source": [
    "# Resetting training set\n",
    "hotels = train_set.drop('is_canceled', axis=1).copy()\n",
    "\n",
    "hotels_prepared = full_pipeline.fit_transform(hotels)\n",
    "\n",
    "hotels_prepared.shape"
   ]
  },
  {
   "cell_type": "code",
   "execution_count": 24,
   "id": "56bf8f0c",
   "metadata": {},
   "outputs": [],
   "source": [
    "tree_clf = DecisionTreeClassifier(max_depth=6, min_samples_leaf=0.1, random_state=1)"
   ]
  },
  {
   "cell_type": "code",
   "execution_count": 25,
   "id": "cfef14bb",
   "metadata": {},
   "outputs": [],
   "source": [
    "from sklearn.metrics import roc_auc_score\n",
    "from sklearn.model_selection import cross_val_score"
   ]
  },
  {
   "cell_type": "code",
   "execution_count": 26,
   "id": "2928a82d",
   "metadata": {},
   "outputs": [],
   "source": [
    "def score_classifier(model, X, y):\n",
    "\t\"\"\"Does something. Edit this later.\"\"\"\n",
    "\n",
    "\t# Compute cross-validated Acc. scores: cv_accuracy\n",
    "\tcv_accuracy = cross_val_score(model, X, y, cv=10, scoring='accuracy')\n",
    "\n",
    "\t# Print list of Acc. scores\n",
    "\tprint(f\"Accuracy scores computed using 10-fold cross-validation: {cv_accuracy}\")\n",
    "\tprint(f\"Mean accuracy score computed using 10-fold cross-validation: {cv_accuracy.mean()}\")\n",
    "\tprint(f\"Accuracy score std. deviation computed using 10-fold cross-validation: {cv_accuracy.std()}\")"
   ]
  },
  {
   "cell_type": "code",
   "execution_count": 27,
   "id": "7c820dc1",
   "metadata": {},
   "outputs": [
    {
     "name": "stdout",
     "output_type": "stream",
     "text": [
      "Accuracy scores computed using 10-fold cross-validation: [0.84694305 0.84872278 0.85101037 0.84671762 0.84839284 0.85331379\n",
      " 0.85258088 0.8445189  0.853942   0.84923045]\n",
      "Mean accuracy score computed using 10-fold cross-validation: 0.849537266612615\n",
      "Accuracy score std. deviation computed using 10-fold cross-validation: 0.0029500677808970573\n"
     ]
    }
   ],
   "source": [
    "score_classifier(tree_clf, hotels_prepared, hotel_labels)"
   ]
  },
  {
   "cell_type": "code",
   "execution_count": 28,
   "id": "25cc6f79",
   "metadata": {},
   "outputs": [],
   "source": [
    "# Full pipeline object, with appropriate transformations for each column type united by a ColumnTransformer\n",
    "# object followed by a TruncatedSVD reducing the dataset to 18 features, which capture 80% of the variance\n",
    "full_pipeline = Pipeline([('column_transformer', ColumnTransformer([('num', num_pipeline, NUM_COLS), \\\n",
    "                                ('country', country_pipeline, COUNTRY_COL), \\\n",
    "                                      ('cat', OneHotEncoder(), CAT_COLS)])), \\\n",
    "                                          ('svd', TruncatedSVD(n_components=18, random_state=42))])"
   ]
  },
  {
   "cell_type": "code",
   "execution_count": 29,
   "id": "3b34592c",
   "metadata": {},
   "outputs": [
    {
     "data": {
      "text/plain": [
       "(95512, 18)"
      ]
     },
     "execution_count": 29,
     "metadata": {},
     "output_type": "execute_result"
    }
   ],
   "source": [
    "# Resetting training set\n",
    "hotels = train_set.drop('is_canceled', axis=1).copy()\n",
    "hotels_prepared = full_pipeline.fit_transform(hotels)\n",
    "hotels_prepared.shape"
   ]
  },
  {
   "cell_type": "code",
   "execution_count": 31,
   "id": "dcfd73a8",
   "metadata": {},
   "outputs": [],
   "source": [
    "from sklearn.linear_model import LogisticRegression"
   ]
  },
  {
   "cell_type": "code",
   "execution_count": 32,
   "id": "f0673bbb",
   "metadata": {},
   "outputs": [
    {
     "data": {
      "text/plain": [
       "0.9677527431108133"
      ]
     },
     "execution_count": 32,
     "metadata": {},
     "output_type": "execute_result"
    }
   ],
   "source": [
    "log_clf = LogisticRegression().fit(hotels_prepared, hotel_labels)\n",
    "log_clf.score(hotels_prepared, hotel_labels)"
   ]
  },
  {
   "cell_type": "code",
   "execution_count": 33,
   "id": "633cba7f",
   "metadata": {},
   "outputs": [
    {
     "name": "stdout",
     "output_type": "stream",
     "text": [
      "Accuracy scores computed using 10-fold cross-validation: [0.96984925 0.9660804  0.96869438 0.96900848 0.96817087 0.96942729\n",
      " 0.96743796 0.96471574 0.96691446 0.96618155]\n",
      "Mean accuracy score computed using 10-fold cross-validation: 0.96764803759137\n",
      "Accuracy score std. deviation computed using 10-fold cross-validation: 0.0015817316331245017\n"
     ]
    }
   ],
   "source": [
    "score_classifier(log_clf, hotels_prepared, hotel_labels)"
   ]
  },
  {
   "cell_type": "code",
   "execution_count": 34,
   "id": "9873285c",
   "metadata": {},
   "outputs": [
    {
     "name": "stdout",
     "output_type": "stream",
     "text": [
      "Accuracy scores computed using 10-fold cross-validation: [0.74947655 0.73502931 0.73416396 0.75301016 0.7284054  0.73573448\n",
      " 0.73102293 0.74976442 0.73008062 0.73060413]\n",
      "Mean accuracy score computed using 10-fold cross-validation: 0.7377291958343352\n",
      "Accuracy score std. deviation computed using 10-fold cross-validation: 0.0088402962345213\n"
     ]
    }
   ],
   "source": [
    "score_classifier(tree_clf, hotels_prepared, hotel_labels)"
   ]
  },
  {
   "cell_type": "code",
   "execution_count": 36,
   "id": "801f471c",
   "metadata": {},
   "outputs": [],
   "source": [
    "hotels = test_set.drop('is_canceled', axis=1).copy()"
   ]
  },
  {
   "cell_type": "code",
   "execution_count": 37,
   "id": "4b8c33ad",
   "metadata": {},
   "outputs": [],
   "source": [
    "hotel_labels = test_set['is_canceled'].copy()"
   ]
  },
  {
   "cell_type": "code",
   "execution_count": 43,
   "id": "a3cc9a24",
   "metadata": {},
   "outputs": [],
   "source": [
    "# Full pipeline object, with appropriate transformations for each column type united by a ColumnTransformer\n",
    "# object followed by a TruncatedSVD reducing the dataset to 18 features, which capture 80% of the variance\n",
    "full_pipeline = Pipeline([('column_transformer', ColumnTransformer([('num', num_pipeline, NUM_COLS), \\\n",
    "                                ('country', country_pipeline, COUNTRY_COL), \\\n",
    "                                      ('cat', OneHotEncoder(handle_unknown='ignore'), CAT_COLS)])), \\\n",
    "                                          ('svd', TruncatedSVD(n_components=18, random_state=42))])"
   ]
  },
  {
   "cell_type": "markdown",
   "id": "b3bbc709",
   "metadata": {},
   "source": [
    "### need to fit to training set before transform test set!!!!!"
   ]
  },
  {
   "cell_type": "code",
   "execution_count": 66,
   "id": "f55a1630",
   "metadata": {},
   "outputs": [],
   "source": [
    "country_pipeline = Pipeline([('limiter', CategoryLimiter(threshold=0.95)), \\\n",
    "                             ('imputer', SimpleImputer(strategy='constant', fill_value='Other')), \\\n",
    "                                    ('encoder', OneHotEncoder(handle_unknown='ignore'))])"
   ]
  },
  {
   "cell_type": "code",
   "execution_count": 67,
   "id": "61e295c7",
   "metadata": {},
   "outputs": [],
   "source": [
    "full_pipeline = Pipeline([('column_transformer', ColumnTransformer([('num', num_pipeline, NUM_COLS), \\\n",
    "                                ('country', country_pipeline, COUNTRY_COL), \\\n",
    "                                      ('cat', OneHotEncoder(handle_unknown='ignore'), CAT_COLS)])), \\\n",
    "                                          ('svd', TruncatedSVD(n_components=18, random_state=42))])"
   ]
  },
  {
   "cell_type": "code",
   "execution_count": 68,
   "id": "c6df8ccd",
   "metadata": {},
   "outputs": [],
   "source": [
    "hotels = train_set.drop('is_canceled', axis=1)\n",
    "hotel_labels = train_set['is_canceled'].copy()"
   ]
  },
  {
   "cell_type": "code",
   "execution_count": 69,
   "id": "3e450354",
   "metadata": {},
   "outputs": [],
   "source": [
    "hotels_test = test_set.drop('is_canceled', axis=1).copy()\n",
    "hotel_test_labels = test_set['is_canceled'].copy()"
   ]
  },
  {
   "cell_type": "code",
   "execution_count": 70,
   "id": "07141955",
   "metadata": {},
   "outputs": [],
   "source": [
    "hotels_prepared = full_pipeline.fit_transform(hotels)"
   ]
  },
  {
   "cell_type": "code",
   "execution_count": 72,
   "id": "1361f974",
   "metadata": {},
   "outputs": [],
   "source": [
    "hotels_test_prepared = full_pipeline.transform(hotels_test)"
   ]
  },
  {
   "cell_type": "code",
   "execution_count": 73,
   "id": "f024ba6e",
   "metadata": {},
   "outputs": [
    {
     "data": {
      "text/plain": [
       "DecisionTreeClassifier(max_depth=6, min_samples_leaf=0.1, random_state=1)"
      ]
     },
     "execution_count": 73,
     "metadata": {},
     "output_type": "execute_result"
    }
   ],
   "source": [
    "tree_clf = DecisionTreeClassifier(max_depth=6, min_samples_leaf=0.1, random_state=1)\n",
    "tree_clf.fit(hotels_prepared, hotel_labels)"
   ]
  },
  {
   "cell_type": "code",
   "execution_count": 74,
   "id": "f163acca",
   "metadata": {},
   "outputs": [
    {
     "name": "stdout",
     "output_type": "stream",
     "text": [
      "Accuracy scores computed using 10-fold cross-validation: [0.74246231 0.74036851 0.74958124 0.74329983 0.75083752 0.72152429\n",
      " 0.73701843 0.74204355 0.75115207 0.7444491 ]\n",
      "Mean accuracy score computed using 10-fold cross-validation: 0.7422736851412488\n",
      "Accuracy score std. deviation computed using 10-fold cross-validation: 0.008205024633171298\n"
     ]
    }
   ],
   "source": [
    "score_classifier(tree_clf, hotels_test_prepared, hotel_test_labels)"
   ]
  },
  {
   "cell_type": "code",
   "execution_count": 75,
   "id": "74c67260",
   "metadata": {},
   "outputs": [],
   "source": [
    "forest_clf = RandomForestClassifier(n_estimators=25, max_depth=6, min_samples_leaf=0.1, random_state=1)"
   ]
  },
  {
   "cell_type": "code",
   "execution_count": 77,
   "id": "bd2cfb72",
   "metadata": {},
   "outputs": [
    {
     "data": {
      "text/plain": [
       "RandomForestClassifier(max_depth=6, min_samples_leaf=0.1, n_estimators=25,\n",
       "                       random_state=1)"
      ]
     },
     "execution_count": 77,
     "metadata": {},
     "output_type": "execute_result"
    }
   ],
   "source": [
    "forest_clf.fit(hotels_prepared, hotel_labels)"
   ]
  },
  {
   "cell_type": "code",
   "execution_count": 78,
   "id": "e98e2c83",
   "metadata": {},
   "outputs": [
    {
     "name": "stdout",
     "output_type": "stream",
     "text": [
      "Accuracy scores computed using 10-fold cross-validation: [0.75628141 0.74497487 0.74832496 0.74497487 0.75502513 0.7298995\n",
      " 0.75293132 0.73953099 0.75743611 0.75282782]\n",
      "Mean accuracy score computed using 10-fold cross-validation: 0.7482206978194983\n",
      "Accuracy score std. deviation computed using 10-fold cross-validation: 0.008196790350587024\n"
     ]
    }
   ],
   "source": [
    "score_classifier(forest_clf, hotels_test_prepared, hotel_test_labels)\n"
   ]
  },
  {
   "cell_type": "code",
   "execution_count": 79,
   "id": "a67a9f54",
   "metadata": {},
   "outputs": [],
   "source": [
    "from sklearn.model_selection import GridSearchCV"
   ]
  },
  {
   "cell_type": "code",
   "execution_count": 80,
   "id": "e4e7a532",
   "metadata": {},
   "outputs": [],
   "source": [
    "param_grid = [{'n_estimators': [5, 15, 25], 'max_features': [2, 4, 6, 8], 'min_samples_leaf': [0.1, 0.2, 0.3]}]\n",
    "forest_clf = RandomForestClassifier()\n",
    "grid_search = GridSearchCV(forest_clf, param_grid, cv=10, scoring='roc_auc')"
   ]
  },
  {
   "cell_type": "code",
   "execution_count": 81,
   "id": "a3b4452b",
   "metadata": {},
   "outputs": [
    {
     "data": {
      "text/plain": [
       "GridSearchCV(cv=10, estimator=RandomForestClassifier(),\n",
       "             param_grid=[{'max_features': [2, 4, 6, 8],\n",
       "                          'min_samples_leaf': [0.1, 0.2, 0.3],\n",
       "                          'n_estimators': [5, 15, 25]}],\n",
       "             scoring='roc_auc')"
      ]
     },
     "execution_count": 81,
     "metadata": {},
     "output_type": "execute_result"
    }
   ],
   "source": [
    "grid_search.fit(hotels_prepared, hotel_labels)"
   ]
  },
  {
   "cell_type": "code",
   "execution_count": 82,
   "id": "11155560",
   "metadata": {},
   "outputs": [
    {
     "data": {
      "text/plain": [
       "{'max_features': 4, 'min_samples_leaf': 0.1, 'n_estimators': 25}"
      ]
     },
     "execution_count": 82,
     "metadata": {},
     "output_type": "execute_result"
    }
   ],
   "source": [
    "grid_search.best_params_"
   ]
  },
  {
   "cell_type": "code",
   "execution_count": 84,
   "id": "5f120d9c",
   "metadata": {},
   "outputs": [],
   "source": [
    "final_model = RandomForestClassifier(n_estimators=25, max_features=4, min_samples_leaf=0.1)"
   ]
  },
  {
   "cell_type": "code",
   "execution_count": 85,
   "id": "761fd14a",
   "metadata": {},
   "outputs": [
    {
     "data": {
      "text/plain": [
       "RandomForestClassifier(max_features=4, min_samples_leaf=0.1, n_estimators=25)"
      ]
     },
     "execution_count": 85,
     "metadata": {},
     "output_type": "execute_result"
    }
   ],
   "source": [
    "final_model.fit(hotels_prepared, hotel_labels)"
   ]
  },
  {
   "cell_type": "code",
   "execution_count": 86,
   "id": "49f0f4bd",
   "metadata": {},
   "outputs": [
    {
     "name": "stdout",
     "output_type": "stream",
     "text": [
      "Accuracy scores computed using 10-fold cross-validation: [0.74780151 0.75858459 0.74976442 0.75656999 0.74536698 0.75950162\n",
      " 0.74819391 0.76295676 0.75541828 0.73918961]\n",
      "Mean accuracy score computed using 10-fold cross-validation: 0.7523347671856648\n",
      "Accuracy score std. deviation computed using 10-fold cross-validation: 0.007045175587136018\n"
     ]
    }
   ],
   "source": [
    "score_classifier(final_model, hotels_prepared, hotel_labels)"
   ]
  },
  {
   "cell_type": "code",
   "execution_count": 87,
   "id": "8c5ed82b",
   "metadata": {},
   "outputs": [],
   "source": [
    "from sklearn.model_selection import cross_val_predict\n",
    "from sklearn.metrics import confusion_matrix"
   ]
  },
  {
   "cell_type": "code",
   "execution_count": 88,
   "id": "b5e953c5",
   "metadata": {},
   "outputs": [],
   "source": [
    "pred = cross_val_predict(final_model, hotels_prepared, hotel_labels, cv=5)"
   ]
  },
  {
   "cell_type": "code",
   "execution_count": 89,
   "id": "ea4a6c27",
   "metadata": {},
   "outputs": [
    {
     "data": {
      "text/plain": [
       "array([[58258,  1875],\n",
       "       [21498, 13881]])"
      ]
     },
     "execution_count": 89,
     "metadata": {},
     "output_type": "execute_result"
    }
   ],
   "source": [
    "confusion_matrix(hotel_labels, pred)"
   ]
  },
  {
   "cell_type": "code",
   "execution_count": 90,
   "id": "37c9fc8a",
   "metadata": {},
   "outputs": [],
   "source": [
    "from sklearn.metrics import precision_score, recall_score"
   ]
  },
  {
   "cell_type": "code",
   "execution_count": 91,
   "id": "1a600008",
   "metadata": {},
   "outputs": [
    {
     "data": {
      "text/plain": [
       "0.3923513948952769"
      ]
     },
     "execution_count": 91,
     "metadata": {},
     "output_type": "execute_result"
    }
   ],
   "source": [
    "precision_score(hotel_labels, pred)\n",
    "recall_score(hotel_labels, pred)"
   ]
  },
  {
   "cell_type": "code",
   "execution_count": 92,
   "id": "942fd987",
   "metadata": {},
   "outputs": [
    {
     "data": {
      "text/plain": [
       "0.880997715156131"
      ]
     },
     "execution_count": 92,
     "metadata": {},
     "output_type": "execute_result"
    }
   ],
   "source": [
    "precision_score(hotel_labels, pred)"
   ]
  },
  {
   "cell_type": "code",
   "execution_count": 93,
   "id": "ffabd550",
   "metadata": {},
   "outputs": [
    {
     "data": {
      "text/plain": [
       "0.3923513948952769"
      ]
     },
     "execution_count": 93,
     "metadata": {},
     "output_type": "execute_result"
    }
   ],
   "source": [
    "recall_score(hotel_labels, pred)"
   ]
  },
  {
   "cell_type": "code",
   "execution_count": 94,
   "id": "4b55ed7d",
   "metadata": {},
   "outputs": [],
   "source": [
    "country_pipeline = Pipeline([('limiter', CategoryLimiter(threshold=0.50)), \\\n",
    "                             ('imputer', SimpleImputer(strategy='constant', fill_value='Other')), \\\n",
    "                                    ('encoder', OneHotEncoder(handle_unknown='ignore'))])"
   ]
  },
  {
   "cell_type": "code",
   "execution_count": 95,
   "id": "ba78a1ed",
   "metadata": {},
   "outputs": [],
   "source": [
    "full_pipeline = Pipeline([('column_transformer', ColumnTransformer([('num', num_pipeline, NUM_COLS), \\\n",
    "                                ('country', country_pipeline, COUNTRY_COL), \\\n",
    "                                      ('cat', OneHotEncoder(handle_unknown='ignore'), CAT_COLS)])), \\\n",
    "                                          ('svd', TruncatedSVD(n_components=18, random_state=42))])"
   ]
  },
  {
   "cell_type": "code",
   "execution_count": 96,
   "id": "42407fd6",
   "metadata": {},
   "outputs": [],
   "source": [
    "hotels = train_set.drop('is_canceled', axis=1)\n",
    "hotel_labels = train_set['is_canceled'].copy()"
   ]
  },
  {
   "cell_type": "code",
   "execution_count": 97,
   "id": "419356f0",
   "metadata": {},
   "outputs": [],
   "source": [
    "hotels_prepared = full_pipeline.fit_transform(hotels)"
   ]
  },
  {
   "cell_type": "code",
   "execution_count": 98,
   "id": "fd3c4013",
   "metadata": {},
   "outputs": [
    {
     "name": "stdout",
     "output_type": "stream",
     "text": [
      "Accuracy scores computed using 10-fold cross-validation: [0.74246231 0.74036851 0.74958124 0.74329983 0.75083752 0.72152429\n",
      " 0.73701843 0.74204355 0.75115207 0.7444491 ]\n",
      "Mean accuracy score computed using 10-fold cross-validation: 0.7422736851412488\n",
      "Accuracy score std. deviation computed using 10-fold cross-validation: 0.008205024633171298\n"
     ]
    }
   ],
   "source": [
    "tree_clf = DecisionTreeClassifier(max_depth=6, min_samples_leaf=0.1, random_state=1)\n",
    "tree_clf.fit(hotels_prepared, hotel_labels)\n",
    "score_classifier(tree_clf, hotels_test_prepared, hotel_test_labels)"
   ]
  },
  {
   "cell_type": "code",
   "execution_count": 99,
   "id": "13a2bfab",
   "metadata": {},
   "outputs": [
    {
     "data": {
      "text/plain": [
       "RandomForestClassifier(max_features=4, min_samples_leaf=0.1, n_estimators=25,\n",
       "                       random_state=1)"
      ]
     },
     "execution_count": 99,
     "metadata": {},
     "output_type": "execute_result"
    }
   ],
   "source": [
    "forest_clf = RandomForestClassifier(n_estimators=25, max_features=4, min_samples_leaf=0.1, random_state=1)\n",
    "forest_clf.fit(hotels_prepared, hotel_labels)"
   ]
  },
  {
   "cell_type": "code",
   "execution_count": 100,
   "id": "2b51049d",
   "metadata": {},
   "outputs": [
    {
     "name": "stdout",
     "output_type": "stream",
     "text": [
      "Accuracy scores computed using 10-fold cross-validation: [0.81940955 0.80747487 0.82609151 0.81729662 0.81782012 0.81928594\n",
      " 0.80661711 0.81195686 0.81918124 0.81855303]\n",
      "Mean accuracy score computed using 10-fold cross-validation: 0.8163686851175571\n",
      "Accuracy score std. deviation computed using 10-fold cross-validation: 0.005670955480124078\n"
     ]
    }
   ],
   "source": [
    "score_classifier(forest_clf, hotels_prepared, hotel_labels)"
   ]
  },
  {
   "cell_type": "code",
   "execution_count": 102,
   "id": "e0652b59",
   "metadata": {},
   "outputs": [],
   "source": [
    "from sklearn.model_selection import RandomizedSearchCV\n",
    "param_grid = [{'n_estimators': [5, 15, 25], 'max_features': [2, 4, 6, 8], \\\n",
    "\t\t\t\t'maxforest_clf = RandomForestClassifier()\n",
    "_depth':[2,4,6,8],'min_samples_leaf': [0.1, 0.2, 0.3]}]\n",
    "rand_search = RandomizedSearchCV(forest_clf, param_grid, cv=10, scoring='roc_auc')"
   ]
  },
  {
   "cell_type": "code",
   "execution_count": 103,
   "id": "a30b7271",
   "metadata": {},
   "outputs": [
    {
     "data": {
      "text/plain": [
       "RandomizedSearchCV(cv=10, estimator=RandomForestClassifier(),\n",
       "                   param_distributions=[{'max_depth': [2, 4, 6, 8],\n",
       "                                         'max_features': [2, 4, 6, 8],\n",
       "                                         'min_samples_leaf': [0.1, 0.2, 0.3],\n",
       "                                         'n_estimators': [5, 15, 25]}],\n",
       "                   scoring='roc_auc')"
      ]
     },
     "execution_count": 103,
     "metadata": {},
     "output_type": "execute_result"
    }
   ],
   "source": [
    "rand_search.fit(hotels_prepared, hotel_labels)"
   ]
  },
  {
   "cell_type": "code",
   "execution_count": 104,
   "id": "9dd33c19",
   "metadata": {},
   "outputs": [
    {
     "data": {
      "text/plain": [
       "{'n_estimators': 25,\n",
       " 'min_samples_leaf': 0.2,\n",
       " 'max_features': 2,\n",
       " 'max_depth': 4}"
      ]
     },
     "execution_count": 104,
     "metadata": {},
     "output_type": "execute_result"
    }
   ],
   "source": [
    "rand_search.best_params_"
   ]
  },
  {
   "cell_type": "code",
   "execution_count": 105,
   "id": "2eea4277",
   "metadata": {},
   "outputs": [],
   "source": [
    "final_model = rand_search.best_estimator_"
   ]
  },
  {
   "cell_type": "code",
   "execution_count": 106,
   "id": "69c19d6d",
   "metadata": {},
   "outputs": [
    {
     "name": "stdout",
     "output_type": "stream",
     "text": [
      "Accuracy scores computed using 10-fold cross-validation: [0.67546064 0.65201005 0.67856769 0.66485185 0.67228562 0.68809549\n",
      " 0.69584337 0.6695634  0.69521516 0.65312533]\n",
      "Mean accuracy score computed using 10-fold cross-validation: 0.6745018587510547\n",
      "Accuracy score std. deviation computed using 10-fold cross-validation: 0.014737700617822426\n"
     ]
    }
   ],
   "source": [
    "score_classifier(final_model, hotels_prepared, hotel_labels)"
   ]
  },
  {
   "cell_type": "code",
   "execution_count": 107,
   "id": "ff8b7685",
   "metadata": {},
   "outputs": [
    {
     "data": {
      "text/plain": [
       "RandomForestClassifier(max_depth=4, max_features=2, min_samples_leaf=0.2,\n",
       "                       n_estimators=25)"
      ]
     },
     "execution_count": 107,
     "metadata": {},
     "output_type": "execute_result"
    }
   ],
   "source": [
    "final_model.fit(hotels_prepared, hotel_labels)"
   ]
  },
  {
   "cell_type": "code",
   "execution_count": 108,
   "id": "86bddfb5",
   "metadata": {},
   "outputs": [
    {
     "name": "stdout",
     "output_type": "stream",
     "text": [
      "Accuracy scores computed using 10-fold cross-validation: [0.67954355 0.67849665 0.62967229 0.63752487 0.67626427 0.64255052\n",
      " 0.66390954 0.69165532 0.6598262  0.64328343]\n",
      "Mean accuracy score computed using 10-fold cross-validation: 0.6602726621275153\n",
      "Accuracy score std. deviation computed using 10-fold cross-validation: 0.020035128453799917\n"
     ]
    }
   ],
   "source": [
    "score_classifier(final_model, hotels_prepared, hotel_labels)"
   ]
  },
  {
   "cell_type": "code",
   "execution_count": 110,
   "id": "9e766074",
   "metadata": {},
   "outputs": [],
   "source": [
    "pred = cross_val_predict(final_model, hotels_prepared, hotel_labels, cv=5)"
   ]
  },
  {
   "cell_type": "code",
   "execution_count": 111,
   "id": "bfa05401",
   "metadata": {},
   "outputs": [
    {
     "data": {
      "text/plain": [
       "array([[60133,     0],\n",
       "       [32525,  2854]])"
      ]
     },
     "execution_count": 111,
     "metadata": {},
     "output_type": "execute_result"
    }
   ],
   "source": [
    "confusion_matrix(hotel_labels, pred)"
   ]
  },
  {
   "cell_type": "code",
   "execution_count": 112,
   "id": "2fb4983d",
   "metadata": {},
   "outputs": [
    {
     "data": {
      "text/plain": [
       "1.0"
      ]
     },
     "execution_count": 112,
     "metadata": {},
     "output_type": "execute_result"
    }
   ],
   "source": [
    "precision_score(hotel_labels, pred)"
   ]
  },
  {
   "cell_type": "code",
   "execution_count": 113,
   "id": "f7b6b3e5",
   "metadata": {},
   "outputs": [
    {
     "data": {
      "text/plain": [
       "0.08066932361005116"
      ]
     },
     "execution_count": 113,
     "metadata": {},
     "output_type": "execute_result"
    }
   ],
   "source": [
    "recall_score(hotel_labels, pred)"
   ]
  },
  {
   "cell_type": "code",
   "execution_count": 114,
   "id": "fccc6500",
   "metadata": {},
   "outputs": [
    {
     "data": {
      "text/plain": [
       "RandomForestClassifier(max_features=4, min_samples_leaf=0.1, n_estimators=25,\n",
       "                       random_state=1)"
      ]
     },
     "execution_count": 114,
     "metadata": {},
     "output_type": "execute_result"
    }
   ],
   "source": [
    "forest_clf = RandomForestClassifier(n_estimators=25, max_features=4, min_samples_leaf=0.1, random_state=1)\n",
    "forest_clf.fit(hotels_prepared, hotel_labels)"
   ]
  },
  {
   "cell_type": "code",
   "execution_count": 115,
   "id": "570eecd4",
   "metadata": {},
   "outputs": [],
   "source": [
    "pred = cross_val_predict(forest_clf, hotels_prepared, hotel_labels, cv=5)"
   ]
  },
  {
   "cell_type": "code",
   "execution_count": 116,
   "id": "329acfc8",
   "metadata": {},
   "outputs": [
    {
     "data": {
      "text/plain": [
       "array([[59257,   876],\n",
       "       [17013, 18366]])"
      ]
     },
     "execution_count": 116,
     "metadata": {},
     "output_type": "execute_result"
    }
   ],
   "source": [
    "confusion_matrix(hotel_labels, pred)"
   ]
  },
  {
   "cell_type": "code",
   "execution_count": 117,
   "id": "ea079c14",
   "metadata": {},
   "outputs": [
    {
     "data": {
      "text/plain": [
       "0.9544745868412847"
      ]
     },
     "execution_count": 117,
     "metadata": {},
     "output_type": "execute_result"
    }
   ],
   "source": [
    "precision_score(hotel_labels, pred)"
   ]
  },
  {
   "cell_type": "code",
   "execution_count": 118,
   "id": "f022ccfd",
   "metadata": {},
   "outputs": [
    {
     "data": {
      "text/plain": [
       "0.5191215127618078"
      ]
     },
     "execution_count": 118,
     "metadata": {},
     "output_type": "execute_result"
    }
   ],
   "source": [
    "recall_score(hotel_labels, pred)"
   ]
  },
  {
   "cell_type": "markdown",
   "id": "15d0ddeb",
   "metadata": {},
   "source": [
    "### Let's think back to the business case. We are a hotel attempting to predict whether a certain reservation will be canceled. In this situation, making a Type I error, i.e. incorrectly predicting a cancellation when there will be none, is significantly more costly than a Type II error, or failing to detect a cancellation. The main potential use case for this model, as I described earlier, is helping hotels reach maximum capacity by continuing to advertise (or even potentially double booking) rooms taken up by a reservation our model predicts will be eventually canceled. \n",
    "\n",
    "### It is therefore imperative that we are highly confident of our model's decision when it predicts that a particular reservation will be canceled. Otherwise, hotel management and other business stakeholders might commonly recommend double booking (or even outright canceling the original reservation, if they lack understanding of the model, amongst other reasons) rooms for which there is eventually no cancellation, severely impacting customer satisfaction. A type II error, or failing to detect a cancellation, does have the negative impact of potentially leading to empty rooms. However, in this case, there is no potential impact of ruining legitimate reservations. Additionally, given that reservations can, in many cases, be canceled with enough notice to advertise to and attract new guests, not all of them will lead to unfilled inventory and lost revenue.\n",
    "\n",
    "### We have arrived at a model with 95% precision and 52% recall. In other words - when our model flags a reservation as one that will be canceled we can expect it to be around 95% accurate. On the flip side, our model catches a little over half of all the reservations that will be eventually canceled.  This I believe, to be a more than adequate performance for our business case, for the reasons I have outlined above.\n"
   ]
  },
  {
   "cell_type": "code",
   "execution_count": 1,
   "id": "133a63e2",
   "metadata": {},
   "outputs": [
    {
     "name": "stdout",
     "output_type": "stream",
     "text": [
      "2\n"
     ]
    }
   ],
   "source": [
    "print(1+1)"
   ]
  }
 ],
 "metadata": {
  "kernelspec": {
   "display_name": "Python 3",
   "language": "python",
   "name": "python3"
  },
  "language_info": {
   "codemirror_mode": {
    "name": "ipython",
    "version": 3
   },
   "file_extension": ".py",
   "mimetype": "text/x-python",
   "name": "python",
   "nbconvert_exporter": "python",
   "pygments_lexer": "ipython3",
   "version": "3.7.10"
  }
 },
 "nbformat": 4,
 "nbformat_minor": 5
}
